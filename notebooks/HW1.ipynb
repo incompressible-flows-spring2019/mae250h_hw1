{
 "cells": [
  {
   "cell_type": "markdown",
   "metadata": {},
   "source": [
    "## Solution of homework 1"
   ]
  },
  {
   "cell_type": "markdown",
   "metadata": {},
   "source": [
    "The next line activates the environment in which we are working on HW1. It is assumed that you already generated this environment, per the instructions in the document *UsingJulia.pdf*"
   ]
  },
  {
   "cell_type": "code",
   "execution_count": 1,
   "metadata": {},
   "outputs": [
    {
     "data": {
      "text/plain": [
       "\"/Users/jeff/Dropbox/MAE250H/julia/HW1/Project.toml\""
      ]
     },
     "execution_count": 1,
     "metadata": {},
     "output_type": "execute_result"
    }
   ],
   "source": [
    "using Pkg\n",
    "Pkg.activate(\"/Users/jeff/Dropbox/MAE250H/julia/HW1\")"
   ]
  },
  {
   "cell_type": "markdown",
   "metadata": {},
   "source": [
    "These load in some packages. The first package (Revise) allows us to make immediate use of the code after we have changed it. This avoids the need to restart the Julia session every time we change code. The second line loads our HW1 module."
   ]
  },
  {
   "cell_type": "code",
   "execution_count": 2,
   "metadata": {},
   "outputs": [],
   "source": [
    "using Revise\n",
    "using HW1"
   ]
  },
  {
   "cell_type": "markdown",
   "metadata": {},
   "source": [
    "Let's read the documentation that we wrote for scale_it"
   ]
  },
  {
   "cell_type": "code",
   "execution_count": 3,
   "metadata": {},
   "outputs": [
    {
     "data": {
      "text/latex": [
       "\\begin{verbatim}\n",
       "scale_it(f::Function,x::Real,c::Real) -> Real\n",
       "\\end{verbatim}\n",
       "Takes as input a function \\texttt{f} and two real-valued arguments \\texttt{x} and \\texttt{c} and returns value \\texttt{c*f(x)}.\n",
       "\n",
       "For example,\n",
       "\n",
       "\\begin{verbatim}\n",
       "julia> g(x) = x^2\n",
       "\n",
       "julia> HW1.scale_it(g,1,2)\n",
       "2\n",
       "\\end{verbatim}\n"
      ],
      "text/markdown": [
       "```\n",
       "scale_it(f::Function,x::Real,c::Real) -> Real\n",
       "```\n",
       "\n",
       "Takes as input a function `f` and two real-valued arguments `x` and `c` and returns value `c*f(x)`.\n",
       "\n",
       "For example,\n",
       "\n",
       "```\n",
       "julia> g(x) = x^2\n",
       "\n",
       "julia> HW1.scale_it(g,1,2)\n",
       "2\n",
       "```\n"
      ],
      "text/plain": [
       "\u001b[36m  scale_it(f::Function,x::Real,c::Real) -> Real\u001b[39m\n",
       "\n",
       "  Takes as input a function \u001b[36mf\u001b[39m and two real-valued arguments \u001b[36mx\u001b[39m and \u001b[36mc\u001b[39m and\n",
       "  returns value \u001b[36mc*f(x)\u001b[39m.\n",
       "\n",
       "  For example,\n",
       "\n",
       "\u001b[36m  julia> g(x) = x^2\u001b[39m\n",
       "\u001b[36m  \u001b[39m\n",
       "\u001b[36m  julia> HW1.scale_it(g,1,2)\u001b[39m\n",
       "\u001b[36m  2\u001b[39m"
      ]
     },
     "execution_count": 3,
     "metadata": {},
     "output_type": "execute_result"
    }
   ],
   "source": [
    "?HW1.scale_it"
   ]
  },
  {
   "cell_type": "markdown",
   "metadata": {},
   "source": [
    "Okay, so let's try it! First we define a function for input. We can call it anything we want:"
   ]
  },
  {
   "cell_type": "code",
   "execution_count": 4,
   "metadata": {},
   "outputs": [
    {
     "data": {
      "text/plain": [
       "fcn (generic function with 1 method)"
      ]
     },
     "execution_count": 4,
     "metadata": {},
     "output_type": "execute_result"
    }
   ],
   "source": [
    "fcn(x::Real) = tan(x)"
   ]
  },
  {
   "cell_type": "markdown",
   "metadata": {},
   "source": [
    "Now let's try it out. Here, we will double the result of the tangent:"
   ]
  },
  {
   "cell_type": "code",
   "execution_count": 5,
   "metadata": {},
   "outputs": [
    {
     "data": {
      "text/plain": [
       "1.9999999999999998"
      ]
     },
     "execution_count": 5,
     "metadata": {},
     "output_type": "execute_result"
    }
   ],
   "source": [
    "HW1.scale_it(fcn,pi/4,2)"
   ]
  },
  {
   "cell_type": "markdown",
   "metadata": {},
   "source": [
    "#### Plotting"
   ]
  },
  {
   "cell_type": "markdown",
   "metadata": {},
   "source": [
    "We will make use of the Plots package. It is presumed that you already added this package."
   ]
  },
  {
   "cell_type": "code",
   "execution_count": 7,
   "metadata": {},
   "outputs": [],
   "source": [
    "using Plots"
   ]
  },
  {
   "cell_type": "markdown",
   "metadata": {},
   "source": [
    "Let's try evaluating our scale_it function on a vector of data:"
   ]
  },
  {
   "cell_type": "code",
   "execution_count": 8,
   "metadata": {},
   "outputs": [
    {
     "data": {
      "text/plain": [
       "0.0:0.007853981633974483:0.7853981633974483"
      ]
     },
     "execution_count": 8,
     "metadata": {},
     "output_type": "execute_result"
    }
   ],
   "source": [
    "x = range(0,pi/4,length=101)"
   ]
  },
  {
   "cell_type": "markdown",
   "metadata": {},
   "source": [
    "We can't just pass `x` in, because it only accepts scalar arguments. But in Julia, we can use the . notation to get a vectorized form of the function:"
   ]
  },
  {
   "cell_type": "code",
   "execution_count": 9,
   "metadata": {},
   "outputs": [
    {
     "data": {
      "text/plain": [
       "101-element Array{Float64,1}:\n",
       " 0.0                \n",
       " 0.01570828625796718\n",
       " 0.03141851064732983\n",
       " 0.0471326122561293 \n",
       " 0.0628525320867023 \n",
       " 0.07858021401533928\n",
       " 0.09431760575496094\n",
       " 0.11006665982182706\n",
       " 0.12582933450729952\n",
       " 0.14160759485569036\n",
       " 0.15740341364923688\n",
       " 0.17321877240125833\n",
       " 0.18905566235856408\n",
       " ⋮                  \n",
       " 1.6811756375362736 \n",
       " 1.7081613709269332 \n",
       " 1.7355115938216823 \n",
       " 1.7632371847263781 \n",
       " 1.7913494167409458 \n",
       " 1.819859976355475  \n",
       " 1.848780983316414  \n",
       " 1.8781250116349844 \n",
       " 1.9079051118155266 \n",
       " 1.9381348343875864 \n",
       " 1.9688282548321938 \n",
       " 1.9999999999999998 "
      ]
     },
     "execution_count": 9,
     "metadata": {},
     "output_type": "execute_result"
    }
   ],
   "source": [
    "HW1.scale_it.(fcn,x,2)"
   ]
  },
  {
   "cell_type": "markdown",
   "metadata": {},
   "source": [
    "Let's plot the result:"
   ]
  },
  {
   "cell_type": "code",
   "execution_count": 10,
   "metadata": {},
   "outputs": [
    {
     "data": {
      "image/svg+xml": [
       "<?xml version=\"1.0\" encoding=\"utf-8\"?>\n",
       "<svg xmlns=\"http://www.w3.org/2000/svg\" xmlns:xlink=\"http://www.w3.org/1999/xlink\" width=\"600\" height=\"400\" viewBox=\"0 0 2400 1600\">\n",
       "<defs>\n",
       "  <clipPath id=\"clip2200\">\n",
       "    <rect x=\"0\" y=\"0\" width=\"2000\" height=\"2000\"/>\n",
       "  </clipPath>\n",
       "</defs>\n",
       "<defs>\n",
       "  <clipPath id=\"clip2201\">\n",
       "    <rect x=\"0\" y=\"0\" width=\"2400\" height=\"1600\"/>\n",
       "  </clipPath>\n",
       "</defs>\n",
       "<polygon clip-path=\"url(#clip2201)\" points=\"\n",
       "0,1600 2400,1600 2400,0 0,0 \n",
       "  \" fill=\"#ffffff\" fill-rule=\"evenodd\" fill-opacity=\"1\"/>\n",
       "<defs>\n",
       "  <clipPath id=\"clip2202\">\n",
       "    <rect x=\"480\" y=\"0\" width=\"1681\" height=\"1600\"/>\n",
       "  </clipPath>\n",
       "</defs>\n",
       "<polygon clip-path=\"url(#clip2201)\" points=\"\n",
       "161.394,1503.47 2321.26,1503.47 2321.26,47.2441 161.394,47.2441 \n",
       "  \" fill=\"#ffffff\" fill-rule=\"evenodd\" fill-opacity=\"1\"/>\n",
       "<defs>\n",
       "  <clipPath id=\"clip2203\">\n",
       "    <rect x=\"161\" y=\"47\" width=\"2161\" height=\"1457\"/>\n",
       "  </clipPath>\n",
       "</defs>\n",
       "<polyline clip-path=\"url(#clip2203)\" style=\"stroke:#000000; stroke-width:2; stroke-opacity:0.1; fill:none\" points=\"\n",
       "  222.522,1503.47 222.522,47.2441 \n",
       "  \"/>\n",
       "<polyline clip-path=\"url(#clip2203)\" style=\"stroke:#000000; stroke-width:2; stroke-opacity:0.1; fill:none\" points=\"\n",
       "  741.395,1503.47 741.395,47.2441 \n",
       "  \"/>\n",
       "<polyline clip-path=\"url(#clip2203)\" style=\"stroke:#000000; stroke-width:2; stroke-opacity:0.1; fill:none\" points=\"\n",
       "  1260.27,1503.47 1260.27,47.2441 \n",
       "  \"/>\n",
       "<polyline clip-path=\"url(#clip2203)\" style=\"stroke:#000000; stroke-width:2; stroke-opacity:0.1; fill:none\" points=\"\n",
       "  1779.14,1503.47 1779.14,47.2441 \n",
       "  \"/>\n",
       "<polyline clip-path=\"url(#clip2203)\" style=\"stroke:#000000; stroke-width:2; stroke-opacity:0.1; fill:none\" points=\"\n",
       "  2298.01,1503.47 2298.01,47.2441 \n",
       "  \"/>\n",
       "<polyline clip-path=\"url(#clip2203)\" style=\"stroke:#000000; stroke-width:2; stroke-opacity:0.1; fill:none\" points=\"\n",
       "  161.394,1462.26 2321.26,1462.26 \n",
       "  \"/>\n",
       "<polyline clip-path=\"url(#clip2203)\" style=\"stroke:#000000; stroke-width:2; stroke-opacity:0.1; fill:none\" points=\"\n",
       "  161.394,1118.81 2321.26,1118.81 \n",
       "  \"/>\n",
       "<polyline clip-path=\"url(#clip2203)\" style=\"stroke:#000000; stroke-width:2; stroke-opacity:0.1; fill:none\" points=\"\n",
       "  161.394,775.359 2321.26,775.359 \n",
       "  \"/>\n",
       "<polyline clip-path=\"url(#clip2203)\" style=\"stroke:#000000; stroke-width:2; stroke-opacity:0.1; fill:none\" points=\"\n",
       "  161.394,431.909 2321.26,431.909 \n",
       "  \"/>\n",
       "<polyline clip-path=\"url(#clip2203)\" style=\"stroke:#000000; stroke-width:2; stroke-opacity:0.1; fill:none\" points=\"\n",
       "  161.394,88.4582 2321.26,88.4582 \n",
       "  \"/>\n",
       "<polyline clip-path=\"url(#clip2201)\" style=\"stroke:#000000; stroke-width:4; stroke-opacity:1; fill:none\" points=\"\n",
       "  161.394,1503.47 2321.26,1503.47 \n",
       "  \"/>\n",
       "<polyline clip-path=\"url(#clip2201)\" style=\"stroke:#000000; stroke-width:4; stroke-opacity:1; fill:none\" points=\"\n",
       "  161.394,1503.47 161.394,47.2441 \n",
       "  \"/>\n",
       "<polyline clip-path=\"url(#clip2201)\" style=\"stroke:#000000; stroke-width:4; stroke-opacity:1; fill:none\" points=\"\n",
       "  222.522,1503.47 222.522,1481.63 \n",
       "  \"/>\n",
       "<polyline clip-path=\"url(#clip2201)\" style=\"stroke:#000000; stroke-width:4; stroke-opacity:1; fill:none\" points=\"\n",
       "  741.395,1503.47 741.395,1481.63 \n",
       "  \"/>\n",
       "<polyline clip-path=\"url(#clip2201)\" style=\"stroke:#000000; stroke-width:4; stroke-opacity:1; fill:none\" points=\"\n",
       "  1260.27,1503.47 1260.27,1481.63 \n",
       "  \"/>\n",
       "<polyline clip-path=\"url(#clip2201)\" style=\"stroke:#000000; stroke-width:4; stroke-opacity:1; fill:none\" points=\"\n",
       "  1779.14,1503.47 1779.14,1481.63 \n",
       "  \"/>\n",
       "<polyline clip-path=\"url(#clip2201)\" style=\"stroke:#000000; stroke-width:4; stroke-opacity:1; fill:none\" points=\"\n",
       "  2298.01,1503.47 2298.01,1481.63 \n",
       "  \"/>\n",
       "<polyline clip-path=\"url(#clip2201)\" style=\"stroke:#000000; stroke-width:4; stroke-opacity:1; fill:none\" points=\"\n",
       "  161.394,1462.26 193.792,1462.26 \n",
       "  \"/>\n",
       "<polyline clip-path=\"url(#clip2201)\" style=\"stroke:#000000; stroke-width:4; stroke-opacity:1; fill:none\" points=\"\n",
       "  161.394,1118.81 193.792,1118.81 \n",
       "  \"/>\n",
       "<polyline clip-path=\"url(#clip2201)\" style=\"stroke:#000000; stroke-width:4; stroke-opacity:1; fill:none\" points=\"\n",
       "  161.394,775.359 193.792,775.359 \n",
       "  \"/>\n",
       "<polyline clip-path=\"url(#clip2201)\" style=\"stroke:#000000; stroke-width:4; stroke-opacity:1; fill:none\" points=\"\n",
       "  161.394,431.909 193.792,431.909 \n",
       "  \"/>\n",
       "<polyline clip-path=\"url(#clip2201)\" style=\"stroke:#000000; stroke-width:4; stroke-opacity:1; fill:none\" points=\"\n",
       "  161.394,88.4582 193.792,88.4582 \n",
       "  \"/>\n",
       "<g clip-path=\"url(#clip2201)\">\n",
       "<text style=\"fill:#000000; fill-opacity:1; font-family:Arial,Helvetica Neue,Helvetica,sans-serif; font-size:48px; text-anchor:middle;\" transform=\"rotate(0, 222.522, 1557.47)\" x=\"222.522\" y=\"1557.47\">0.0</text>\n",
       "</g>\n",
       "<g clip-path=\"url(#clip2201)\">\n",
       "<text style=\"fill:#000000; fill-opacity:1; font-family:Arial,Helvetica Neue,Helvetica,sans-serif; font-size:48px; text-anchor:middle;\" transform=\"rotate(0, 741.395, 1557.47)\" x=\"741.395\" y=\"1557.47\">0.2</text>\n",
       "</g>\n",
       "<g clip-path=\"url(#clip2201)\">\n",
       "<text style=\"fill:#000000; fill-opacity:1; font-family:Arial,Helvetica Neue,Helvetica,sans-serif; font-size:48px; text-anchor:middle;\" transform=\"rotate(0, 1260.27, 1557.47)\" x=\"1260.27\" y=\"1557.47\">0.4</text>\n",
       "</g>\n",
       "<g clip-path=\"url(#clip2201)\">\n",
       "<text style=\"fill:#000000; fill-opacity:1; font-family:Arial,Helvetica Neue,Helvetica,sans-serif; font-size:48px; text-anchor:middle;\" transform=\"rotate(0, 1779.14, 1557.47)\" x=\"1779.14\" y=\"1557.47\">0.6</text>\n",
       "</g>\n",
       "<g clip-path=\"url(#clip2201)\">\n",
       "<text style=\"fill:#000000; fill-opacity:1; font-family:Arial,Helvetica Neue,Helvetica,sans-serif; font-size:48px; text-anchor:middle;\" transform=\"rotate(0, 2298.01, 1557.47)\" x=\"2298.01\" y=\"1557.47\">0.8</text>\n",
       "</g>\n",
       "<g clip-path=\"url(#clip2201)\">\n",
       "<text style=\"fill:#000000; fill-opacity:1; font-family:Arial,Helvetica Neue,Helvetica,sans-serif; font-size:48px; text-anchor:end;\" transform=\"rotate(0, 137.394, 1479.76)\" x=\"137.394\" y=\"1479.76\">0.0</text>\n",
       "</g>\n",
       "<g clip-path=\"url(#clip2201)\">\n",
       "<text style=\"fill:#000000; fill-opacity:1; font-family:Arial,Helvetica Neue,Helvetica,sans-serif; font-size:48px; text-anchor:end;\" transform=\"rotate(0, 137.394, 1136.31)\" x=\"137.394\" y=\"1136.31\">0.5</text>\n",
       "</g>\n",
       "<g clip-path=\"url(#clip2201)\">\n",
       "<text style=\"fill:#000000; fill-opacity:1; font-family:Arial,Helvetica Neue,Helvetica,sans-serif; font-size:48px; text-anchor:end;\" transform=\"rotate(0, 137.394, 792.859)\" x=\"137.394\" y=\"792.859\">1.0</text>\n",
       "</g>\n",
       "<g clip-path=\"url(#clip2201)\">\n",
       "<text style=\"fill:#000000; fill-opacity:1; font-family:Arial,Helvetica Neue,Helvetica,sans-serif; font-size:48px; text-anchor:end;\" transform=\"rotate(0, 137.394, 449.409)\" x=\"137.394\" y=\"449.409\">1.5</text>\n",
       "</g>\n",
       "<g clip-path=\"url(#clip2201)\">\n",
       "<text style=\"fill:#000000; fill-opacity:1; font-family:Arial,Helvetica Neue,Helvetica,sans-serif; font-size:48px; text-anchor:end;\" transform=\"rotate(0, 137.394, 105.958)\" x=\"137.394\" y=\"105.958\">2.0</text>\n",
       "</g>\n",
       "<polyline clip-path=\"url(#clip2203)\" style=\"stroke:#009af9; stroke-width:4; stroke-opacity:1; fill:none\" points=\"\n",
       "  222.522,1462.26 242.898,1451.47 263.275,1440.68 283.651,1429.89 304.027,1419.09 324.403,1408.28 344.779,1397.47 365.155,1386.66 385.531,1375.83 405.907,1364.99 \n",
       "  426.283,1354.14 446.659,1343.28 467.035,1332.4 487.412,1321.5 507.788,1310.59 528.164,1299.66 548.54,1288.71 568.916,1277.74 589.292,1266.74 609.668,1255.72 \n",
       "  630.044,1244.67 650.42,1233.6 670.796,1222.49 691.172,1211.36 711.549,1200.19 731.925,1188.99 752.301,1177.76 772.677,1166.49 793.053,1155.18 813.429,1143.83 \n",
       "  833.805,1132.44 854.181,1121.01 874.557,1109.53 894.933,1098 915.309,1086.43 935.686,1074.81 956.062,1063.13 976.438,1051.41 996.814,1039.62 1017.19,1027.78 \n",
       "  1037.57,1015.89 1057.94,1003.93 1078.32,991.903 1098.69,979.816 1119.07,967.661 1139.45,955.438 1159.82,943.144 1180.2,930.777 1200.57,918.334 1220.95,905.813 \n",
       "  1241.33,893.213 1261.7,880.53 1282.08,867.763 1302.46,854.909 1322.83,841.965 1343.21,828.929 1363.58,815.798 1383.96,802.57 1404.34,789.242 1424.71,775.81 \n",
       "  1445.09,762.273 1465.46,748.627 1485.84,734.87 1506.22,720.997 1526.59,707.006 1546.97,692.894 1567.34,678.658 1587.72,664.293 1608.1,649.796 1628.47,635.164 \n",
       "  1648.85,620.393 1669.22,605.48 1689.6,590.419 1709.98,575.208 1730.35,559.841 1750.73,544.315 1771.11,528.625 1791.48,512.767 1811.86,496.736 1832.23,480.527 \n",
       "  1852.61,464.135 1872.99,447.554 1893.36,430.781 1913.74,413.808 1934.11,396.63 1954.49,379.242 1974.87,361.637 1995.24,343.81 2015.62,325.752 2035.99,307.459 \n",
       "  2056.37,288.922 2076.75,270.136 2097.12,251.091 2117.5,231.781 2137.88,212.197 2158.25,192.331 2178.63,172.174 2199,151.718 2219.38,130.953 2239.76,109.87 \n",
       "  2260.13,88.4582 \n",
       "  \"/>\n",
       "<polygon clip-path=\"url(#clip2201)\" points=\"\n",
       "1958.43,251.724 2249.26,251.724 2249.26,130.764 1958.43,130.764 \n",
       "  \" fill=\"#ffffff\" fill-rule=\"evenodd\" fill-opacity=\"1\"/>\n",
       "<polyline clip-path=\"url(#clip2201)\" style=\"stroke:#000000; stroke-width:4; stroke-opacity:1; fill:none\" points=\"\n",
       "  1958.43,251.724 2249.26,251.724 2249.26,130.764 1958.43,130.764 1958.43,251.724 \n",
       "  \"/>\n",
       "<polyline clip-path=\"url(#clip2201)\" style=\"stroke:#009af9; stroke-width:4; stroke-opacity:1; fill:none\" points=\"\n",
       "  1982.43,191.244 2126.43,191.244 \n",
       "  \"/>\n",
       "<g clip-path=\"url(#clip2201)\">\n",
       "<text style=\"fill:#000000; fill-opacity:1; font-family:Arial,Helvetica Neue,Helvetica,sans-serif; font-size:48px; text-anchor:start;\" transform=\"rotate(0, 2150.43, 208.744)\" x=\"2150.43\" y=\"208.744\">y1</text>\n",
       "</g>\n",
       "</svg>\n"
      ]
     },
     "execution_count": 10,
     "metadata": {},
     "output_type": "execute_result"
    }
   ],
   "source": [
    "plot(x,HW1.scale_it.(fcn,x,2))"
   ]
  },
  {
   "cell_type": "markdown",
   "metadata": {},
   "source": [
    "### Testing the circulant triadiagonal matrix solver"
   ]
  },
  {
   "cell_type": "code",
   "execution_count": 11,
   "metadata": {},
   "outputs": [
    {
     "data": {
      "text/latex": [
       "\\begin{verbatim}\n",
       "trisolve(a,b,c,f::Vector{<:Real},sys_type::String) -> Vector{Real}\n",
       "\\end{verbatim}\n",
       "Solve a tridiagonal system, in which the matrix consists of elements \\texttt{a}, \\texttt{b}, and \\texttt{c}, on the subdiagonal, diagonal, and superdiagonal, respectively, and the right-hand side of the system is given by vector \\texttt{f}. The \\texttt{sys\\_type} of system can be either \\texttt{\"circulant\"} or \\texttt{\"regular\"}. The solution is returned as a vector the same size as \\texttt{f}.\n",
       "\n",
       "For \\texttt{\"circulant\"} systems, \\texttt{a}, \\texttt{b} and \\texttt{c} can only be scalars, since the diagonals must each be uniform. For \\texttt{\"regular\"} systems, these can each be vectors, but \\texttt{b} must be the same length as \\texttt{f} and \\texttt{a} and \\texttt{c} should be one element shorter.\n",
       "\n"
      ],
      "text/markdown": [
       "```\n",
       "trisolve(a,b,c,f::Vector{<:Real},sys_type::String) -> Vector{Real}\n",
       "```\n",
       "\n",
       "Solve a tridiagonal system, in which the matrix consists of elements `a`, `b`, and `c`, on the subdiagonal, diagonal, and superdiagonal, respectively, and the right-hand side of the system is given by vector `f`. The `sys_type` of system can be either `\"circulant\"` or `\"regular\"`. The solution is returned as a vector the same size as `f`.\n",
       "\n",
       "For `\"circulant\"` systems, `a`, `b` and `c` can only be scalars, since the diagonals must each be uniform. For `\"regular\"` systems, these can each be vectors, but `b` must be the same length as `f` and `a` and `c` should be one element shorter.\n"
      ],
      "text/plain": [
       "\u001b[36m  trisolve(a,b,c,f::Vector{<:Real},sys_type::String) -> Vector{Real}\u001b[39m\n",
       "\n",
       "  Solve a tridiagonal system, in which the matrix consists of elements \u001b[36ma\u001b[39m, \u001b[36mb\u001b[39m,\n",
       "  and \u001b[36mc\u001b[39m, on the subdiagonal, diagonal, and superdiagonal, respectively, and\n",
       "  the right-hand side of the system is given by vector \u001b[36mf\u001b[39m. The \u001b[36msys_type\u001b[39m of\n",
       "  system can be either \u001b[36m\"circulant\"\u001b[39m or \u001b[36m\"regular\"\u001b[39m. The solution is returned as a\n",
       "  vector the same size as \u001b[36mf\u001b[39m.\n",
       "\n",
       "  For \u001b[36m\"circulant\"\u001b[39m systems, \u001b[36ma\u001b[39m, \u001b[36mb\u001b[39m and \u001b[36mc\u001b[39m can only be scalars, since the diagonals\n",
       "  must each be uniform. For \u001b[36m\"regular\"\u001b[39m systems, these can each be vectors, but\n",
       "  \u001b[36mb\u001b[39m must be the same length as \u001b[36mf\u001b[39m and \u001b[36ma\u001b[39m and \u001b[36mc\u001b[39m should be one element shorter."
      ]
     },
     "execution_count": 11,
     "metadata": {},
     "output_type": "execute_result"
    }
   ],
   "source": [
    "?HW1.trisolve"
   ]
  },
  {
   "cell_type": "markdown",
   "metadata": {},
   "source": [
    "Okay, let's try it! First on a circulant type system:"
   ]
  },
  {
   "cell_type": "code",
   "execution_count": 12,
   "metadata": {},
   "outputs": [
    {
     "data": {
      "text/plain": [
       "4-element Array{Float64,1}:\n",
       " 0.0               \n",
       " 0.7071067811865475\n",
       " 1.0               \n",
       " 0.7071067811865476"
      ]
     },
     "execution_count": 12,
     "metadata": {},
     "output_type": "execute_result"
    }
   ],
   "source": [
    "a = 1; b = 4; c = 1\n",
    "M = 4 \n",
    "rhs = sin.(π*(0:M-1)/M)"
   ]
  },
  {
   "cell_type": "code",
   "execution_count": 13,
   "metadata": {},
   "outputs": [
    {
     "data": {
      "text/plain": [
       "4-element Array{Float64,1}:\n",
       " -0.07618446353109125\n",
       "  0.15236892706218247\n",
       "  0.17381553646890874\n",
       "  0.15236892706218247"
      ]
     },
     "execution_count": 13,
     "metadata": {},
     "output_type": "execute_result"
    }
   ],
   "source": [
    "HW1.trisolve(a,b,c,rhs,\"circulant\")"
   ]
  },
  {
   "cell_type": "markdown",
   "metadata": {},
   "source": [
    "Is that the right answer? Let's compare it to what Julia gives using the built-in \\ solver. There is a package called ToeplitzMatrices that can help us easily produce a circulant matrix"
   ]
  },
  {
   "cell_type": "code",
   "execution_count": 14,
   "metadata": {},
   "outputs": [],
   "source": [
    "using ToeplitzMatrices"
   ]
  },
  {
   "cell_type": "code",
   "execution_count": 18,
   "metadata": {},
   "outputs": [
    {
     "data": {
      "text/plain": [
       "4-element Array{Float64,1}:\n",
       " -0.07618446353109125\n",
       "  0.15236892706218247\n",
       "  0.17381553646890874\n",
       "  0.15236892706218247"
      ]
     },
     "execution_count": 18,
     "metadata": {},
     "output_type": "execute_result"
    }
   ],
   "source": [
    "v = zeros(M)\n",
    "v[1] = b; v[2] = a; v[M] = c\n",
    "A = Circulant(v)\n",
    "A\\rhs"
   ]
  },
  {
   "cell_type": "markdown",
   "metadata": {},
   "source": [
    "#### Profile the code"
   ]
  },
  {
   "cell_type": "markdown",
   "metadata": {},
   "source": [
    "Let's time the code to see how long it takes. We will use a bigger system for this:"
   ]
  },
  {
   "cell_type": "code",
   "execution_count": 19,
   "metadata": {},
   "outputs": [],
   "source": [
    "N = 10000\n",
    "a = rand(); b = rand(); c = rand()\n",
    "rhs = rand(N);"
   ]
  },
  {
   "cell_type": "markdown",
   "metadata": {},
   "source": [
    "We use `@time` for timing this. We sometimes have to run it more than once to get a proper estimate of time, since the first time includes some compilation time."
   ]
  },
  {
   "cell_type": "code",
   "execution_count": 22,
   "metadata": {},
   "outputs": [
    {
     "name": "stdout",
     "output_type": "stream",
     "text": [
      "  0.001302 seconds (122 allocations: 793.531 KiB)\n"
     ]
    }
   ],
   "source": [
    "@time HW1.trisolve(a,b,c,rhs,\"circulant\");"
   ]
  },
  {
   "cell_type": "markdown",
   "metadata": {},
   "source": [
    "For deeper code profiling (to see where the code spends most of its time), we can use the Profile package"
   ]
  },
  {
   "cell_type": "code",
   "execution_count": 23,
   "metadata": {},
   "outputs": [],
   "source": [
    "using Profile"
   ]
  },
  {
   "cell_type": "markdown",
   "metadata": {},
   "source": [
    "Clear the profile buffer"
   ]
  },
  {
   "cell_type": "code",
   "execution_count": 24,
   "metadata": {},
   "outputs": [],
   "source": [
    "Profile.clear()"
   ]
  },
  {
   "cell_type": "markdown",
   "metadata": {},
   "source": [
    "Run the profiler. To get more statistics, run the code lots of times."
   ]
  },
  {
   "cell_type": "code",
   "execution_count": 25,
   "metadata": {},
   "outputs": [],
   "source": [
    "@profile (for i = 1:1000; HW1.trisolve(a,b,c,rhs,\"circulant\"); end) "
   ]
  },
  {
   "cell_type": "markdown",
   "metadata": {},
   "source": [
    "Now look at the profiler results. The first number indicates how many times the code was on a particular line of code for each sample. Larger numbers mean more time spent on that particular line. The code's nesting is indicated by indentation. Here, we look down for places in the actual trisolve function it spent its time. It spends most of its time on generating the eigenvalues."
   ]
  },
  {
   "cell_type": "code",
   "execution_count": 26,
   "metadata": {},
   "outputs": [
    {
     "name": "stdout",
     "output_type": "stream",
     "text": [
      "1025 ./task.jl:259; (::getfield(IJulia, Symbol(\"##15#1...\n",
      " 1025 ...9ajf8/src/eventloop.jl:8; eventloop(::ZMQ.Socket)\n",
      "  1025 ./essentials.jl:741; invokelatest\n",
      "   1025 ./essentials.jl:742; #invokelatest#1\n",
      "    1025 ...c/execute_request.jl:67; execute_request(::ZMQ.Socket, ::...\n",
      "     1025 .../SoftGlobalScope.jl:218; softscope_include_string(::Modu...\n",
      "      1025 ./boot.jl:328; eval\n",
      "       1025 ./In[25]:1; top-level scope\n",
      "        1025 ...file/src/Profile.jl:25; macro expansion\n",
      "         1025 ./In[25]:1; macro expansion\n",
      "          2    ./simdloop.jl:0; trisolve(::Float64, ::Float6...\n",
      "          10   ...lia/HW1/src/HW1.jl:87; trisolve(::Float64, ::Float6...\n",
      "           10 ./broadcast.jl:753; materialize\n",
      "            10 ./broadcast.jl:773; copy\n",
      "             10 ./broadcast.jl:797; copyto!\n",
      "              2 ./broadcast.jl:853; copyto!\n",
      "               2 ./boot.jl:402; Type\n",
      "              8 ./broadcast.jl:857; copyto!\n",
      "               8 ./simdloop.jl:73; macro expansion\n",
      "                7 ./broadcast.jl:858; macro expansion\n",
      "                 3 ./array.jl:767; setindex!\n",
      "                 4 ./broadcast.jl:511; getindex\n",
      "                  4 ./broadcast.jl:551; _broadcast_getindex\n",
      "                   4 ./broadcast.jl:578; _broadcast_getindex_evalf\n",
      "                    4 ./float.jl:482; ==\n",
      "                     4 ./float.jl:448; ==\n",
      "                1 ./broadcast.jl:861; macro expansion\n",
      "                 1 ./bitarray.jl:329; dumpbitcache\n",
      "                  1 ./bitarray.jl:293; copy_to_bitarray_chunks!(...\n",
      "                   1 ./int.jl:444; pack8bools\n",
      "          1012 ...lia/HW1/src/HW1.jl:94; trisolve(::Float64, ::Float6...\n",
      "           5   ./twiceprecision.jl:84; circulant(::Float64, ::Float...\n",
      "           5   ...ia/HW1/src/HW1.jl:115; circulant(::Float64, ::Float...\n",
      "            5 ./broadcast.jl:753; materialize\n",
      "             5 ./broadcast.jl:773; copy\n",
      "              5 ./broadcast.jl:797; copyto!\n",
      "               5 ./broadcast.jl:842; copyto!\n",
      "                5 ./simdloop.jl:73; macro expansion\n",
      "                 5 ./broadcast.jl:843; macro expansion\n",
      "                  1 ./array.jl:767; setindex!\n",
      "                  4 ./broadcast.jl:511; getindex\n",
      "                   4 ./broadcast.jl:550; _broadcast_getindex\n",
      "                    4 ./broadcast.jl:575; _getindex\n",
      "                     4 ./broadcast.jl:544; _broadcast_getindex\n",
      "                      4 ./array.jl:729; getindex\n",
      "           506 ...ia/HW1/src/HW1.jl:121; circulant(::Float64, ::Float...\n",
      "            99  ./arraymath.jl:52; *\n",
      "             98 ./broadcast.jl:707; broadcast(::typeof(*), ::Fl...\n",
      "              35 ./boot.jl:402; materialize\n",
      "               5 .../p7sLQ/src/fft.jl:255; destroy_plan(::FFTW.cFFTWPl...\n",
      "              62 ./broadcast.jl:753; materialize\n",
      "               62 ./broadcast.jl:773; copy\n",
      "                62 ./broadcast.jl:797; copyto!\n",
      "                 62 ./broadcast.jl:842; copyto!\n",
      "                  2  ./simdloop.jl:71; macro expansion\n",
      "                   2 ./int.jl:49; <\n",
      "                  60 ./simdloop.jl:73; macro expansion\n",
      "                   60 ./broadcast.jl:843; macro expansion\n",
      "                    8  ./array.jl:767; setindex!\n",
      "                    52 ./broadcast.jl:511; getindex\n",
      "                     52 ./broadcast.jl:551; _broadcast_getindex\n",
      "                      52 ./broadcast.jl:578; _broadcast_getindex_evalf\n",
      "                       45 ./complex.jl:312; *\n",
      "                        45 ./float.jl:399; *\n",
      "                       7  ./float.jl:399; *\n",
      "             1  ./broadcast.jl:707; broadcast\n",
      "              1 ./broadcast.jl:1167; broadcasted\n",
      "               1 ./broadcast.jl:990; broadcasted\n",
      "                1 ./none:0; #range\n",
      "                 1 ./range.jl:87; #range#31\n",
      "                  1 ...iceprecision.jl:429; _range(::Float64, ::Float...\n",
      "                   1 ...iceprecision.jl:687; rat(::Float64)\n",
      "                    1 ./promotion.jl:414; max\n",
      "                     1 ./int.jl:49; <\n",
      "            20  ./boot.jl:402; materialize\n",
      "             5 .../p7sLQ/src/fft.jl:255; destroy_plan(::FFTW.cFFTWPla...\n",
      "            387 ./broadcast.jl:753; materialize\n",
      "             387 ./broadcast.jl:773; copy\n",
      "              387 ./broadcast.jl:797; copyto!\n",
      "               387 ./broadcast.jl:842; copyto!\n",
      "                1   ./simdloop.jl:0; macro expansion\n",
      "                5   ./simdloop.jl:71; macro expansion\n",
      "                 5 ./int.jl:49; <\n",
      "                5   ./simdloop.jl:72; macro expansion\n",
      "                 5 ./simdloop.jl:50; simd_index\n",
      "                  5 ./int.jl:53; +\n",
      "                376 ./simdloop.jl:73; macro expansion\n",
      "                 9   ./array.jl:767; macro expansion\n",
      "                 367 ./broadcast.jl:843; macro expansion\n",
      "                  3   ./array.jl:767; setindex!\n",
      "                  364 ./broadcast.jl:511; getindex\n",
      "                   28  ./broadcast.jl:550; _broadcast_getindex\n",
      "                    3  ./broadcast.jl:574; _getindex\n",
      "                     3 ./broadcast.jl:551; _broadcast_getindex\n",
      "                      3 ./broadcast.jl:578; _broadcast_getindex_evalf\n",
      "                       3 ./float.jl:395; +\n",
      "                    25 ./broadcast.jl:575; _getindex\n",
      "                     25 ./broadcast.jl:544; _broadcast_getindex\n",
      "                      25 ./range.jl:639; getindex\n",
      "                       10 ./float.jl:395; unsafe_getindex\n",
      "                       5  ...eprecision.jl:449; unsafe_getindex\n",
      "                        5 ./float.jl:399; *\n",
      "                       10 ...eprecision.jl:450; unsafe_getindex\n",
      "                        7 ...eprecision.jl:84; add12\n",
      "                         1 ./float.jl:522; abs\n",
      "                        3 ...eprecision.jl:85; add12\n",
      "                         3 ...eprecision.jl:50; canonicalize2\n",
      "                          3 ./float.jl:397; -\n",
      "                   196 ./broadcast.jl:551; _broadcast_getindex\n",
      "                    196 ./broadcast.jl:578; _broadcast_getindex_evalf\n",
      "                     53 ./complex.jl:307; -\n",
      "                      53 ./float.jl:397; -\n",
      "                     3  ./special/trig.jl:100; cos(::Float64)\n",
      "                      3 ./float.jl:522; abs\n",
      "                     4  ./special/trig.jl:101; cos(::Float64)\n",
      "                     5  ./special/trig.jl:105; cos(::Float64)\n",
      "                      1 ./float.jl:395; cos_kernel\n",
      "                      1 ./special/trig.jl:147; cos_kernel\n",
      "                       1 ./float.jl:399; *\n",
      "                      3 ./special/trig.jl:151; cos_kernel\n",
      "                       2 ./float.jl:399; *\n",
      "                       1 ./float.jl:397; -\n",
      "                     4  ./special/trig.jl:108; cos(::Float64)\n",
      "                      3 ./float.jl:557; isinf\n",
      "                       3 ./float.jl:547; isfinite\n",
      "                        3 ./float.jl:482; ==\n",
      "                         3 ./float.jl:448; ==\n",
      "                     15 ./special/trig.jl:111; cos(::Float64)\n",
      "                      6 ...al/rem_pio2.jl:0; rem_pio2_kernel\n",
      "                      1 ...al/rem_pio2.jl:219; rem_pio2_kernel\n",
      "                       1 ./math.jl:1052; poshighword\n",
      "                        1 ./essentials.jl:381; reinterpret\n",
      "                      1 ...al/rem_pio2.jl:221; rem_pio2_kernel\n",
      "                      3 ...al/rem_pio2.jl:238; rem_pio2_kernel\n",
      "                       3 ./float.jl:404; cody_waite_2c_pio2\n",
      "                      2 ...al/rem_pio2.jl:256; rem_pio2_kernel\n",
      "                       2 ...al/rem_pio2.jl:53; cody_waite_2c_pio2\n",
      "                        2 ./float.jl:404; muladd\n",
      "                      1 ...al/rem_pio2.jl:266; rem_pio2_kernel\n",
      "                       1 ...al/rem_pio2.jl:53; cody_waite_2c_pio2\n",
      "                        1 ./float.jl:404; muladd\n",
      "                      1 ...al/rem_pio2.jl:268; rem_pio2_kernel\n",
      "                     3  ./special/trig.jl:113; cos(::Float64)\n",
      "                     10 ./special/trig.jl:114; cos(::Float64)\n",
      "                      1 ./float.jl:395; cos_kernel\n",
      "                      2 ./float.jl:399; cos_kernel\n",
      "                      3 ./special/trig.jl:140; cos_kernel\n",
      "                       2 ./float.jl:404; muladd\n",
      "                       1 ./operators.jl:502; *\n",
      "                        1 ./float.jl:399; *\n",
      "                      4 ./special/trig.jl:143; cos_kernel\n",
      "                       2 ./float.jl:395; +\n",
      "                       2 ./float.jl:397; -\n",
      "                     27 ./special/trig.jl:116; cos(::Float64)\n",
      "                      2  ./float.jl:395; sin_kernel\n",
      "                      2  ./float.jl:399; sin_kernel\n",
      "                      9  ...ecial/trig.jl:73; sin_kernel\n",
      "                       9 ./operators.jl:502; *\n",
      "                        9 ./float.jl:399; *\n",
      "                      14 ...ecial/trig.jl:75; sin_kernel\n",
      "                       7 ./float.jl:399; *\n",
      "                       7 ./float.jl:397; -\n",
      "                     2  ./special/trig.jl:117; cos(::Float64)\n",
      "                     31 ./special/trig.jl:118; cos(::Float64)\n",
      "                      1  ./float.jl:387; -\n",
      "                      3  ./float.jl:395; cos_kernel\n",
      "                      16 ...ecial/trig.jl:140; cos_kernel\n",
      "                       8 ./float.jl:399; *\n",
      "                       6 ./float.jl:404; muladd\n",
      "                       2 ./operators.jl:502; *\n",
      "                        2 ./float.jl:399; *\n",
      "                      10 ...ecial/trig.jl:143; cos_kernel\n",
      "                       5 ./float.jl:399; *\n",
      "                       4 ./float.jl:395; +\n",
      "                       1 ./float.jl:397; -\n",
      "                     33 ./special/trig.jl:120; cos(::Float64)\n",
      "                      8  ./float.jl:399; sin_kernel\n",
      "                      9  ...ecial/trig.jl:73; sin_kernel\n",
      "                       2 ./float.jl:395; +\n",
      "                       3 ./float.jl:404; muladd\n",
      "                       4 ./operators.jl:502; *\n",
      "                        4 ./float.jl:399; *\n",
      "                      16 ...ecial/trig.jl:75; sin_kernel\n",
      "                       10 ./float.jl:399; *\n",
      "                       6  ./float.jl:397; -\n",
      "                   140 ./broadcast.jl:578; _broadcast_getindex\n",
      "                    2  ./special/trig.jl:30; sin(::Float64)\n",
      "                     2 ./float.jl:522; abs\n",
      "                    5  ./special/trig.jl:31; sin(::Float64)\n",
      "                     3 ./float.jl:452; <\n",
      "                    2  ./special/trig.jl:33; sin(::Float64)\n",
      "                    5  ./special/trig.jl:35; sin(::Float64)\n",
      "                     2 ./float.jl:399; sin_kernel\n",
      "                     2 ./special/trig.jl:80; sin_kernel\n",
      "                      2 ./float.jl:404; muladd\n"
     ]
    },
    {
     "name": "stdout",
     "output_type": "stream",
     "text": [
      "                     1 ./special/trig.jl:82; sin_kernel\n",
      "                      1 ./float.jl:399; *\n",
      "                    6  ./special/trig.jl:38; sin(::Float64)\n",
      "                     1 ./float.jl:557; isinf\n",
      "                      1 ./float.jl:448; isfinite\n",
      "                    19 ./special/trig.jl:41; sin(::Float64)\n",
      "                     5 ...al/rem_pio2.jl:0; rem_pio2_kernel\n",
      "                     3 ...al/rem_pio2.jl:219; rem_pio2_kernel\n",
      "                      3 ./math.jl:1052; poshighword\n",
      "                       2 ./essentials.jl:381; reinterpret\n",
      "                       1 ./int.jl:297; poshighword\n",
      "                     2 ...al/rem_pio2.jl:231; rem_pio2_kernel\n",
      "                      1 ...al/rem_pio2.jl:52; cody_waite_2c_pio2\n",
      "                       1 ./float.jl:404; muladd\n",
      "                      1 ...al/rem_pio2.jl:53; cody_waite_2c_pio2\n",
      "                       1 ./float.jl:404; muladd\n",
      "                     1 ...al/rem_pio2.jl:238; rem_pio2_kernel\n",
      "                      1 ./float.jl:404; cody_waite_2c_pio2\n",
      "                     2 ...al/rem_pio2.jl:254; rem_pio2_kernel\n",
      "                      1 ./float.jl:404; cody_waite_2c_pio2\n",
      "                      1 ...al/rem_pio2.jl:53; cody_waite_2c_pio2\n",
      "                       1 ./float.jl:397; -\n",
      "                     3 ...al/rem_pio2.jl:256; rem_pio2_kernel\n",
      "                      3 ./float.jl:404; cody_waite_2c_pio2\n",
      "                     1 ...al/rem_pio2.jl:266; rem_pio2_kernel\n",
      "                     2 ...al/rem_pio2.jl:268; rem_pio2_kernel\n",
      "                    2  ./special/trig.jl:43; sin(::Float64)\n",
      "                    16 ./special/trig.jl:44; sin(::Float64)\n",
      "                     10 ./float.jl:399; sin_kernel\n",
      "                     6  ./special/trig.jl:73; sin_kernel\n",
      "                      6 ./float.jl:404; muladd\n",
      "                    18 ./special/trig.jl:46; sin(::Float64)\n",
      "                     3 ./float.jl:399; cos_kernel\n",
      "                     8 ./special/trig.jl:140; cos_kernel\n",
      "                      3 ./float.jl:395; +\n",
      "                      5 ./float.jl:404; muladd\n",
      "                     7 ./special/trig.jl:143; cos_kernel\n",
      "                      5 ./float.jl:395; +\n",
      "                      2 ./float.jl:397; -\n",
      "                    27 ./special/trig.jl:48; sin(::Float64)\n",
      "                     8 ./float.jl:399; sin_kernel\n",
      "                     4 ./float.jl:404; sin_kernel\n",
      "                     7 ./special/trig.jl:73; sin_kernel\n",
      "                      2 ./float.jl:395; +\n",
      "                      1 ./float.jl:404; muladd\n",
      "                      4 ./operators.jl:502; *\n",
      "                       4 ./float.jl:399; *\n",
      "                     8 ./special/trig.jl:75; sin_kernel\n",
      "                      2 ./float.jl:399; *\n",
      "                      6 ./float.jl:397; -\n",
      "                    33 ./special/trig.jl:50; sin(::Float64)\n",
      "                     1  ./float.jl:387; -\n",
      "                     4  ./float.jl:399; cos_kernel\n",
      "                     2  ./float.jl:404; cos_kernel\n",
      "                     1  ./special/trig.jl:138; cos_kernel\n",
      "                      1 ./float.jl:399; *\n",
      "                     4  ./special/trig.jl:139; cos_kernel\n",
      "                      4 ./float.jl:399; *\n",
      "                     15 ./special/trig.jl:140; cos_kernel\n",
      "                      9 ./float.jl:399; *\n",
      "                      1 ./float.jl:395; +\n",
      "                      4 ./float.jl:404; muladd\n",
      "                      1 ./operators.jl:502; *\n",
      "                       1 ./float.jl:399; *\n",
      "                     6  ./special/trig.jl:143; cos_kernel\n",
      "                      3 ./float.jl:395; +\n",
      "                      3 ./float.jl:397; -\n",
      "           189 ...ia/HW1/src/HW1.jl:124; circulant(::Float64, ::Float...\n",
      "            189 ...rc/definitions.jl:50; fft!\n",
      "             124 .../p7sLQ/src/fft.jl:397; *(::FFTW.cFFTWPlan{Complex{...\n",
      "             65  .../p7sLQ/src/fft.jl:630; plan_fft!\n",
      "              65 .../p7sLQ/src/fft.jl:630; #plan_fft!#8\n",
      "               65 ...p7sLQ/src/fft.jl:626; plan_fft!\n",
      "                65 ...p7sLQ/src/fft.jl:626; #plan_fft!#6\n",
      "                 4  ...7sLQ/src/fft.jl:498; FFTW.cFFTWPlan{Complex{Fl...\n",
      "                  2 ./array.jl:130; vect\n",
      "                   2 ./abstractarray.jl:617; similar\n",
      "                    2 ./abstractarray.jl:618; similar\n",
      "                     2 ./boot.jl:419; Type\n",
      "                      2 ./boot.jl:411; Type\n",
      "                       2 ./boot.jl:402; Type\n",
      "                  1 ...7sLQ/src/fft.jl:455; dims_howmany(::Array{Comp...\n",
      "                   1 ./array.jl:1527; hcat\n",
      "                    1 ./array.jl:611; collect(::Base.Generator...\n",
      "                     1 ./array.jl:598; _array_for\n",
      "                      1 ...stractarray.jl:617; similar\n",
      "                       1 ...tractarray.jl:618; similar\n",
      "                        1 ./boot.jl:412; Type\n",
      "                         1 ./boot.jl:404; Type\n",
      "                  1 ...7sLQ/src/fft.jl:456; dims_howmany(::Array{Comp...\n",
      "                   1 ./range.jl:934; vcat\n",
      "                    1 ./boot.jl:402; Type\n",
      "                 60 ...7sLQ/src/fft.jl:499; FFTW.cFFTWPlan{Complex{Fl...\n",
      "                 1  ...7sLQ/src/fft.jl:505; FFTW.cFFTWPlan{Complex{Fl...\n",
      "                  1 ...7sLQ/src/fft.jl:189; set_timelimit\n",
      "           27  ...ia/HW1/src/HW1.jl:128; circulant(::Float64, ::Float...\n",
      "            27 ./broadcast.jl:756; materialize!\n",
      "             27 ./broadcast.jl:797; copyto!\n",
      "              27 ./broadcast.jl:842; copyto!\n",
      "               27 ./simdloop.jl:73; macro expansion\n",
      "                27 ./broadcast.jl:843; macro expansion\n",
      "                 2  ./array.jl:767; setindex!\n",
      "                 25 ./broadcast.jl:511; getindex\n",
      "                  25 ./broadcast.jl:551; _broadcast_getindex\n",
      "                   25 ./broadcast.jl:578; _broadcast_getindex_evalf\n",
      "                    25 ./complex.jl:324; /\n",
      "                     25 ./promotion.jl:316; /\n",
      "                      25 ./float.jl:401; /\n",
      "           92  ...ia/HW1/src/HW1.jl:133; circulant(::Float64, ::Float...\n",
      "            92 ./broadcast.jl:756; materialize!\n",
      "             92 ./broadcast.jl:797; copyto!\n",
      "              7  ./array.jl:729; copyto!\n",
      "              1  ./broadcast.jl:841; copyto!\n",
      "               1 ./broadcast.jl:824; preprocess\n",
      "                1 ./broadcast.jl:827; preprocess_args\n",
      "                 1 ./broadcast.jl:828; preprocess_args\n",
      "                  1 ./broadcast.jl:825; preprocess\n",
      "                   1 ./broadcast.jl:545; extrude\n",
      "                    1 ./broadcast.jl:500; newindexer\n",
      "                     1 ./broadcast.jl:501; shapeindexer\n",
      "                      1 ./broadcast.jl:506; _newindexer\n",
      "                       1 ./operators.jl:185; !=\n",
      "                        1 ./promotion.jl:403; ==\n",
      "              84 ./broadcast.jl:842; copyto!\n",
      "               84 ./simdloop.jl:73; macro expansion\n",
      "                4  ./array.jl:767; macro expansion\n",
      "                80 ./broadcast.jl:843; macro expansion\n",
      "                 80 ./broadcast.jl:511; getindex\n",
      "                  1  ./broadcast.jl:550; _broadcast_getindex\n",
      "                   1 ./broadcast.jl:574; _getindex\n",
      "                    1 ./broadcast.jl:544; _broadcast_getindex\n",
      "                     1 ./array.jl:729; getindex\n",
      "                  79 ./broadcast.jl:551; _broadcast_getindex\n",
      "                   79 ./broadcast.jl:578; _broadcast_getindex_evalf\n",
      "                    4  ./complex.jl:0; /(::Complex{Float64}, :...\n",
      "                    6  ./complex.jl:361; /(::Complex{Float64}, :...\n",
      "                     6 ./float.jl:522; abs\n",
      "                    8  ./complex.jl:362; /(::Complex{Float64}, :...\n",
      "                    9  ./complex.jl:368; /(::Complex{Float64}, :...\n",
      "                     2 ./float.jl:454; <=\n",
      "                     1 ./operators.jl:333; >=\n",
      "                      1 ./float.jl:454; <=\n",
      "                    43 ./complex.jl:371; /(::Complex{Float64}, :...\n",
      "                     33 ./complex.jl:380; cdiv\n",
      "                      3  ./complex.jl:415; robust_cdiv1\n",
      "                       3 ./float.jl:401; /\n",
      "                      20 ./complex.jl:416; robust_cdiv1\n",
      "                       1  ./float.jl:395; +\n",
      "                       19 ./float.jl:401; /\n",
      "                      5  ./complex.jl:417; robust_cdiv1\n",
      "                       5 ./complex.jl:424; robust_cdiv2\n",
      "                        5 ./float.jl:399; *\n",
      "                      4  ./complex.jl:418; robust_cdiv1\n",
      "                       1 ./complex.jl:424; robust_cdiv2\n",
      "                        1 ./float.jl:399; *\n",
      "                       3 ./float.jl:448; robust_cdiv2\n",
      "                      1  ./float.jl:399; robust_cdiv1\n",
      "                     9  ./complex.jl:382; cdiv\n",
      "                      1 ./complex.jl:415; robust_cdiv1\n",
      "                       1 ./float.jl:401; /\n",
      "                      2 ./complex.jl:417; robust_cdiv1\n",
      "                       1 ./complex.jl:424; robust_cdiv2\n",
      "                        1 ./float.jl:399; *\n",
      "                       1 ./float.jl:395; robust_cdiv2\n",
      "                      1 ./complex.jl:418; robust_cdiv1\n",
      "                       1 ./complex.jl:424; robust_cdiv2\n",
      "                      5 ./float.jl:401; robust_cdiv1\n",
      "                     1  ./complex.jl:383; cdiv\n",
      "                      1 ./float.jl:387; -\n",
      "                    1  ./complex.jl:374; /(::Complex{Float64}, :...\n",
      "           160 ...ia/HW1/src/HW1.jl:137; circulant(::Float64, ::Float...\n",
      "            160 ...rc/definitions.jl:50; ifft!\n",
      "             106 ...rc/definitions.jl:250; *(::AbstractFFTs.ScaledPlan...\n",
      "              99 .../p7sLQ/src/fft.jl:397; *(::FFTW.cFFTWPlan{Complex{...\n",
      "              7  ...ra/src/generic.jl:62; rmul!\n",
      "               7 ./simdloop.jl:73; macro expansion\n",
      "                7 ...ra/src/generic.jl:63; macro expansion\n",
      "                 1 ./array.jl:767; setindex!\n",
      "                 6 ./complex.jl:312; *\n",
      "                  6 ./float.jl:399; *\n",
      "             54  ...rc/definitions.jl:52; plan_ifft!\n",
      "              54 ...rc/definitions.jl:52; #plan_ifft!#6\n",
      "               54 ...c/definitions.jl:270; plan_ifft!\n",
      "                54 ...c/definitions.jl:270; #plan_ifft!#16\n",
      "                 3  .../definitions.jl:266; normalization\n",
      "                  3 .../definitions.jl:265; normalization(::Type, ::T...\n",
      "                   2 ./array.jl:130; vect\n",
      "                    2 ./abstractarray.jl:617; similar\n",
      "                     2 ...stractarray.jl:618; similar\n",
      "                      2 ./boot.jl:419; Type\n",
      "                       2 ./boot.jl:411; Type\n",
      "                        2 ./boot.jl:402; Type\n",
      "                 51 ...7sLQ/src/fft.jl:626; plan_bfft!\n"
     ]
    },
    {
     "name": "stdout",
     "output_type": "stream",
     "text": [
      "                  51 ...7sLQ/src/fft.jl:626; #plan_bfft!#10\n",
      "                   2  ...7sLQ/src/fft.jl:498; FFTW.cFFTWPlan{Complex{F...\n",
      "                    2 ...7sLQ/src/fft.jl:449; dims_howmany(::Array{Com...\n",
      "                     1 ./essentials.jl:674; append_any(::Any, ::Var...\n",
      "                   49 ...7sLQ/src/fft.jl:499; FFTW.cFFTWPlan{Complex{F...\n",
      "           5   ...ia/HW1/src/HW1.jl:139; circulant(::Float64, ::Float...\n",
      "            5 ./broadcast.jl:756; materialize!\n",
      "             5 ./broadcast.jl:797; copyto!\n",
      "              5 ./broadcast.jl:842; copyto!\n",
      "               2 ./simdloop.jl:71; macro expansion\n",
      "                1 ./int.jl:49; <\n",
      "               3 ./simdloop.jl:73; macro expansion\n",
      "                3 ./broadcast.jl:843; macro expansion\n",
      "                 3 ./broadcast.jl:511; getindex\n",
      "                  3 ./broadcast.jl:551; _broadcast_getindex\n",
      "                   3 ./broadcast.jl:578; _broadcast_getindex_evalf\n",
      "                    3 ./complex.jl:312; *\n",
      "                     3 ./promotion.jl:314; *\n",
      "                      3 ./float.jl:399; *\n",
      "           23  ...ia/HW1/src/HW1.jl:141; circulant(::Float64, ::Float...\n",
      "            20 ./boot.jl:402; materialize\n",
      "             1 .../p7sLQ/src/fft.jl:255; destroy_plan(::FFTW.cFFTWPla...\n",
      "            3  ./broadcast.jl:753; materialize\n",
      "             3 ./broadcast.jl:773; copy\n",
      "              3 ./broadcast.jl:797; copyto!\n",
      "               3 ./broadcast.jl:842; copyto!\n",
      "                3 ./simdloop.jl:73; macro expansion\n",
      "                 3 ./broadcast.jl:843; macro expansion\n",
      "                  3 ./broadcast.jl:511; getindex\n",
      "                   3 ./broadcast.jl:550; _broadcast_getindex\n",
      "                    3 ./broadcast.jl:575; _getindex\n",
      "                     3 ./broadcast.jl:544; _broadcast_getindex\n",
      "                      3 ./array.jl:729; getindex\n"
     ]
    }
   ],
   "source": [
    "Profile.print()"
   ]
  },
  {
   "cell_type": "markdown",
   "metadata": {},
   "source": [
    "### Testing regular tridiagonal matrices"
   ]
  },
  {
   "cell_type": "code",
   "execution_count": 27,
   "metadata": {},
   "outputs": [],
   "source": [
    "using LinearAlgebra"
   ]
  },
  {
   "cell_type": "code",
   "execution_count": 28,
   "metadata": {},
   "outputs": [],
   "source": [
    "M = 1000\n",
    "P = 1\n",
    "rhs = 6sin.(P*π*(1:M)/(M+1))\n",
    "a = 1; b = 4; c = 1;"
   ]
  },
  {
   "cell_type": "markdown",
   "metadata": {},
   "source": [
    "Now use our solver. We will time it to see how long it takes. Run this more than once, because the first run includes compilation time."
   ]
  },
  {
   "cell_type": "code",
   "execution_count": 29,
   "metadata": {},
   "outputs": [
    {
     "name": "stdout",
     "output_type": "stream",
     "text": [
      "  0.000040 seconds (15 allocations: 60.188 KiB)\n"
     ]
    }
   ],
   "source": [
    "@time soln_ours = HW1.trisolve(a,b,c,rhs,\"regular\");"
   ]
  },
  {
   "cell_type": "markdown",
   "metadata": {},
   "source": [
    "Now let's use the Julia \\ solver. We first need to construct the tridiagonal matrix:"
   ]
  },
  {
   "cell_type": "code",
   "execution_count": 31,
   "metadata": {},
   "outputs": [
    {
     "name": "stdout",
     "output_type": "stream",
     "text": [
      "  0.000035 seconds (13 allocations: 47.906 KiB)\n"
     ]
    }
   ],
   "source": [
    "A = Tridiagonal(fill(1,M-1),fill(4,M),fill(1,M-1));\n",
    "@time soln_julia = A\\rhs;"
   ]
  },
  {
   "cell_type": "markdown",
   "metadata": {},
   "source": [
    "Let's check that they give the same answer. We will use the Linf norm, which is simply the maximum absolute value (of the difference of vectors)"
   ]
  },
  {
   "cell_type": "code",
   "execution_count": 32,
   "metadata": {},
   "outputs": [
    {
     "data": {
      "text/plain": [
       "4.440892098500626e-16"
      ]
     },
     "execution_count": 32,
     "metadata": {},
     "output_type": "execute_result"
    }
   ],
   "source": [
    "norm(soln_ours - soln_julia,Inf)"
   ]
  },
  {
   "cell_type": "markdown",
   "metadata": {},
   "source": [
    "Now let's evaluate the computational time vs length of vector"
   ]
  },
  {
   "cell_type": "code",
   "execution_count": 33,
   "metadata": {},
   "outputs": [],
   "source": [
    "N = 2 .^(10:25)\n",
    "cputime = []\n",
    "for Ni in N\n",
    "    rhs = 6sin.(P*π*(1:Ni)/(Ni+1))\n",
    "    val, cputmp = @timed soln_ours = HW1.trisolve(a,b,c,rhs,\"regular\")\n",
    "    push!(cputime,cputmp)\n",
    "end"
   ]
  },
  {
   "cell_type": "markdown",
   "metadata": {},
   "source": [
    "Plot the cpu time vs length on a log-log scale to reveal the scaling. Here, we can see that the time scales linearly with the length of the vector, which is ideal."
   ]
  },
  {
   "cell_type": "code",
   "execution_count": 34,
   "metadata": {},
   "outputs": [
    {
     "data": {
      "image/svg+xml": [
       "<?xml version=\"1.0\" encoding=\"utf-8\"?>\n",
       "<svg xmlns=\"http://www.w3.org/2000/svg\" xmlns:xlink=\"http://www.w3.org/1999/xlink\" width=\"600\" height=\"400\" viewBox=\"0 0 2400 1600\">\n",
       "<defs>\n",
       "  <clipPath id=\"clip2400\">\n",
       "    <rect x=\"0\" y=\"0\" width=\"2000\" height=\"2000\"/>\n",
       "  </clipPath>\n",
       "</defs>\n",
       "<defs>\n",
       "  <clipPath id=\"clip2401\">\n",
       "    <rect x=\"0\" y=\"0\" width=\"2400\" height=\"1600\"/>\n",
       "  </clipPath>\n",
       "</defs>\n",
       "<polygon clip-path=\"url(#clip2401)\" points=\"\n",
       "0,1600 2400,1600 2400,0 0,0 \n",
       "  \" fill=\"#ffffff\" fill-rule=\"evenodd\" fill-opacity=\"1\"/>\n",
       "<defs>\n",
       "  <clipPath id=\"clip2402\">\n",
       "    <rect x=\"480\" y=\"0\" width=\"1681\" height=\"1600\"/>\n",
       "  </clipPath>\n",
       "</defs>\n",
       "<polygon clip-path=\"url(#clip2401)\" points=\"\n",
       "288.452,1440.48 2321.26,1440.48 2321.26,47.2441 288.452,47.2441 \n",
       "  \" fill=\"#ffffff\" fill-rule=\"evenodd\" fill-opacity=\"1\"/>\n",
       "<defs>\n",
       "  <clipPath id=\"clip2403\">\n",
       "    <rect x=\"288\" y=\"47\" width=\"2034\" height=\"1394\"/>\n",
       "  </clipPath>\n",
       "</defs>\n",
       "<polyline clip-path=\"url(#clip2403)\" style=\"stroke:#000000; stroke-width:2; stroke-opacity:0.1; fill:none\" points=\"\n",
       "  341.61,1440.48 341.61,47.2441 \n",
       "  \"/>\n",
       "<polyline clip-path=\"url(#clip2403)\" style=\"stroke:#000000; stroke-width:2; stroke-opacity:0.1; fill:none\" points=\"\n",
       "  766.317,1440.48 766.317,47.2441 \n",
       "  \"/>\n",
       "<polyline clip-path=\"url(#clip2403)\" style=\"stroke:#000000; stroke-width:2; stroke-opacity:0.1; fill:none\" points=\"\n",
       "  1191.02,1440.48 1191.02,47.2441 \n",
       "  \"/>\n",
       "<polyline clip-path=\"url(#clip2403)\" style=\"stroke:#000000; stroke-width:2; stroke-opacity:0.1; fill:none\" points=\"\n",
       "  1615.73,1440.48 1615.73,47.2441 \n",
       "  \"/>\n",
       "<polyline clip-path=\"url(#clip2403)\" style=\"stroke:#000000; stroke-width:2; stroke-opacity:0.1; fill:none\" points=\"\n",
       "  2040.44,1440.48 2040.44,47.2441 \n",
       "  \"/>\n",
       "<polyline clip-path=\"url(#clip2403)\" style=\"stroke:#000000; stroke-width:2; stroke-opacity:0.1; fill:none\" points=\"\n",
       "  288.452,1403.61 2321.26,1403.61 \n",
       "  \"/>\n",
       "<polyline clip-path=\"url(#clip2403)\" style=\"stroke:#000000; stroke-width:2; stroke-opacity:0.1; fill:none\" points=\"\n",
       "  288.452,1155.14 2321.26,1155.14 \n",
       "  \"/>\n",
       "<polyline clip-path=\"url(#clip2403)\" style=\"stroke:#000000; stroke-width:2; stroke-opacity:0.1; fill:none\" points=\"\n",
       "  288.452,906.669 2321.26,906.669 \n",
       "  \"/>\n",
       "<polyline clip-path=\"url(#clip2403)\" style=\"stroke:#000000; stroke-width:2; stroke-opacity:0.1; fill:none\" points=\"\n",
       "  288.452,658.198 2321.26,658.198 \n",
       "  \"/>\n",
       "<polyline clip-path=\"url(#clip2403)\" style=\"stroke:#000000; stroke-width:2; stroke-opacity:0.1; fill:none\" points=\"\n",
       "  288.452,409.727 2321.26,409.727 \n",
       "  \"/>\n",
       "<polyline clip-path=\"url(#clip2403)\" style=\"stroke:#000000; stroke-width:2; stroke-opacity:0.1; fill:none\" points=\"\n",
       "  288.452,161.256 2321.26,161.256 \n",
       "  \"/>\n",
       "<polyline clip-path=\"url(#clip2401)\" style=\"stroke:#000000; stroke-width:4; stroke-opacity:1; fill:none\" points=\"\n",
       "  288.452,1440.48 2321.26,1440.48 \n",
       "  \"/>\n",
       "<polyline clip-path=\"url(#clip2401)\" style=\"stroke:#000000; stroke-width:4; stroke-opacity:1; fill:none\" points=\"\n",
       "  288.452,1440.48 288.452,47.2441 \n",
       "  \"/>\n",
       "<polyline clip-path=\"url(#clip2401)\" style=\"stroke:#000000; stroke-width:4; stroke-opacity:1; fill:none\" points=\"\n",
       "  341.61,1440.48 341.61,1419.58 \n",
       "  \"/>\n",
       "<polyline clip-path=\"url(#clip2401)\" style=\"stroke:#000000; stroke-width:4; stroke-opacity:1; fill:none\" points=\"\n",
       "  766.317,1440.48 766.317,1419.58 \n",
       "  \"/>\n",
       "<polyline clip-path=\"url(#clip2401)\" style=\"stroke:#000000; stroke-width:4; stroke-opacity:1; fill:none\" points=\"\n",
       "  1191.02,1440.48 1191.02,1419.58 \n",
       "  \"/>\n",
       "<polyline clip-path=\"url(#clip2401)\" style=\"stroke:#000000; stroke-width:4; stroke-opacity:1; fill:none\" points=\"\n",
       "  1615.73,1440.48 1615.73,1419.58 \n",
       "  \"/>\n",
       "<polyline clip-path=\"url(#clip2401)\" style=\"stroke:#000000; stroke-width:4; stroke-opacity:1; fill:none\" points=\"\n",
       "  2040.44,1440.48 2040.44,1419.58 \n",
       "  \"/>\n",
       "<polyline clip-path=\"url(#clip2401)\" style=\"stroke:#000000; stroke-width:4; stroke-opacity:1; fill:none\" points=\"\n",
       "  288.452,1403.61 318.944,1403.61 \n",
       "  \"/>\n",
       "<polyline clip-path=\"url(#clip2401)\" style=\"stroke:#000000; stroke-width:4; stroke-opacity:1; fill:none\" points=\"\n",
       "  288.452,1155.14 318.944,1155.14 \n",
       "  \"/>\n",
       "<polyline clip-path=\"url(#clip2401)\" style=\"stroke:#000000; stroke-width:4; stroke-opacity:1; fill:none\" points=\"\n",
       "  288.452,906.669 318.944,906.669 \n",
       "  \"/>\n",
       "<polyline clip-path=\"url(#clip2401)\" style=\"stroke:#000000; stroke-width:4; stroke-opacity:1; fill:none\" points=\"\n",
       "  288.452,658.198 318.944,658.198 \n",
       "  \"/>\n",
       "<polyline clip-path=\"url(#clip2401)\" style=\"stroke:#000000; stroke-width:4; stroke-opacity:1; fill:none\" points=\"\n",
       "  288.452,409.727 318.944,409.727 \n",
       "  \"/>\n",
       "<polyline clip-path=\"url(#clip2401)\" style=\"stroke:#000000; stroke-width:4; stroke-opacity:1; fill:none\" points=\"\n",
       "  288.452,161.256 318.944,161.256 \n",
       "  \"/>\n",
       "<g clip-path=\"url(#clip2401)\">\n",
       "<text style=\"fill:#000000; fill-opacity:1; font-family:Arial,Helvetica Neue,Helvetica,sans-serif; font-size:48px; text-anchor:start;\" transform=\"rotate(0, 298.539, 1515.49)\" x=\"298.539\" y=\"1515.49\">10</text>\n",
       "</g>\n",
       "<g clip-path=\"url(#clip2401)\">\n",
       "<text style=\"fill:#000000; fill-opacity:1; font-family:Arial,Helvetica Neue,Helvetica,sans-serif; font-size:38px; text-anchor:start;\" transform=\"rotate(0, 352.064, 1488.08)\" x=\"352.064\" y=\"1488.08\">3 </text>\n",
       "</g>\n",
       "<g clip-path=\"url(#clip2401)\">\n",
       "<text style=\"fill:#000000; fill-opacity:1; font-family:Arial,Helvetica Neue,Helvetica,sans-serif; font-size:48px; text-anchor:start;\" transform=\"rotate(0, 723.246, 1515.49)\" x=\"723.246\" y=\"1515.49\">10</text>\n",
       "</g>\n",
       "<g clip-path=\"url(#clip2401)\">\n",
       "<text style=\"fill:#000000; fill-opacity:1; font-family:Arial,Helvetica Neue,Helvetica,sans-serif; font-size:38px; text-anchor:start;\" transform=\"rotate(0, 776.771, 1488.08)\" x=\"776.771\" y=\"1488.08\">4 </text>\n",
       "</g>\n",
       "<g clip-path=\"url(#clip2401)\">\n",
       "<text style=\"fill:#000000; fill-opacity:1; font-family:Arial,Helvetica Neue,Helvetica,sans-serif; font-size:48px; text-anchor:start;\" transform=\"rotate(0, 1147.95, 1515.49)\" x=\"1147.95\" y=\"1515.49\">10</text>\n",
       "</g>\n",
       "<g clip-path=\"url(#clip2401)\">\n",
       "<text style=\"fill:#000000; fill-opacity:1; font-family:Arial,Helvetica Neue,Helvetica,sans-serif; font-size:38px; text-anchor:start;\" transform=\"rotate(0, 1201.48, 1488.08)\" x=\"1201.48\" y=\"1488.08\">5 </text>\n",
       "</g>\n",
       "<g clip-path=\"url(#clip2401)\">\n",
       "<text style=\"fill:#000000; fill-opacity:1; font-family:Arial,Helvetica Neue,Helvetica,sans-serif; font-size:48px; text-anchor:start;\" transform=\"rotate(0, 1572.66, 1515.49)\" x=\"1572.66\" y=\"1515.49\">10</text>\n",
       "</g>\n",
       "<g clip-path=\"url(#clip2401)\">\n",
       "<text style=\"fill:#000000; fill-opacity:1; font-family:Arial,Helvetica Neue,Helvetica,sans-serif; font-size:38px; text-anchor:start;\" transform=\"rotate(0, 1626.18, 1488.08)\" x=\"1626.18\" y=\"1488.08\">6 </text>\n",
       "</g>\n",
       "<g clip-path=\"url(#clip2401)\">\n",
       "<text style=\"fill:#000000; fill-opacity:1; font-family:Arial,Helvetica Neue,Helvetica,sans-serif; font-size:48px; text-anchor:start;\" transform=\"rotate(0, 1997.37, 1515.49)\" x=\"1997.37\" y=\"1515.49\">10</text>\n",
       "</g>\n",
       "<g clip-path=\"url(#clip2401)\">\n",
       "<text style=\"fill:#000000; fill-opacity:1; font-family:Arial,Helvetica Neue,Helvetica,sans-serif; font-size:38px; text-anchor:start;\" transform=\"rotate(0, 2050.89, 1488.08)\" x=\"2050.89\" y=\"1488.08\">7 </text>\n",
       "</g>\n",
       "<g clip-path=\"url(#clip2401)\">\n",
       "<text style=\"fill:#000000; fill-opacity:1; font-family:Arial,Helvetica Neue,Helvetica,sans-serif; font-size:48px; text-anchor:start;\" transform=\"rotate(0, 155.471, 1427.34)\" x=\"155.471\" y=\"1427.34\">10</text>\n",
       "</g>\n",
       "<g clip-path=\"url(#clip2401)\">\n",
       "<text style=\"fill:#000000; fill-opacity:1; font-family:Arial,Helvetica Neue,Helvetica,sans-serif; font-size:38px; text-anchor:start;\" transform=\"rotate(0, 208.996, 1399.93)\" x=\"208.996\" y=\"1399.93\">-</text>\n",
       "</g>\n",
       "<g clip-path=\"url(#clip2401)\">\n",
       "<text style=\"fill:#000000; fill-opacity:1; font-family:Arial,Helvetica Neue,Helvetica,sans-serif; font-size:38px; text-anchor:start;\" transform=\"rotate(0, 231.836, 1399.93)\" x=\"231.836\" y=\"1399.93\">5 </text>\n",
       "</g>\n",
       "<g clip-path=\"url(#clip2401)\">\n",
       "<text style=\"fill:#000000; fill-opacity:1; font-family:Arial,Helvetica Neue,Helvetica,sans-serif; font-size:48px; text-anchor:start;\" transform=\"rotate(0, 155.471, 1178.87)\" x=\"155.471\" y=\"1178.87\">10</text>\n",
       "</g>\n",
       "<g clip-path=\"url(#clip2401)\">\n",
       "<text style=\"fill:#000000; fill-opacity:1; font-family:Arial,Helvetica Neue,Helvetica,sans-serif; font-size:38px; text-anchor:start;\" transform=\"rotate(0, 208.996, 1151.46)\" x=\"208.996\" y=\"1151.46\">-</text>\n",
       "</g>\n",
       "<g clip-path=\"url(#clip2401)\">\n",
       "<text style=\"fill:#000000; fill-opacity:1; font-family:Arial,Helvetica Neue,Helvetica,sans-serif; font-size:38px; text-anchor:start;\" transform=\"rotate(0, 231.836, 1151.46)\" x=\"231.836\" y=\"1151.46\">4 </text>\n",
       "</g>\n",
       "<g clip-path=\"url(#clip2401)\">\n",
       "<text style=\"fill:#000000; fill-opacity:1; font-family:Arial,Helvetica Neue,Helvetica,sans-serif; font-size:48px; text-anchor:start;\" transform=\"rotate(0, 155.471, 930.396)\" x=\"155.471\" y=\"930.396\">10</text>\n",
       "</g>\n",
       "<g clip-path=\"url(#clip2401)\">\n",
       "<text style=\"fill:#000000; fill-opacity:1; font-family:Arial,Helvetica Neue,Helvetica,sans-serif; font-size:38px; text-anchor:start;\" transform=\"rotate(0, 208.996, 902.986)\" x=\"208.996\" y=\"902.986\">-</text>\n",
       "</g>\n",
       "<g clip-path=\"url(#clip2401)\">\n",
       "<text style=\"fill:#000000; fill-opacity:1; font-family:Arial,Helvetica Neue,Helvetica,sans-serif; font-size:38px; text-anchor:start;\" transform=\"rotate(0, 231.836, 902.986)\" x=\"231.836\" y=\"902.986\">3 </text>\n",
       "</g>\n",
       "<g clip-path=\"url(#clip2401)\">\n",
       "<text style=\"fill:#000000; fill-opacity:1; font-family:Arial,Helvetica Neue,Helvetica,sans-serif; font-size:48px; text-anchor:start;\" transform=\"rotate(0, 155.471, 681.925)\" x=\"155.471\" y=\"681.925\">10</text>\n",
       "</g>\n",
       "<g clip-path=\"url(#clip2401)\">\n",
       "<text style=\"fill:#000000; fill-opacity:1; font-family:Arial,Helvetica Neue,Helvetica,sans-serif; font-size:38px; text-anchor:start;\" transform=\"rotate(0, 208.996, 654.515)\" x=\"208.996\" y=\"654.515\">-</text>\n",
       "</g>\n",
       "<g clip-path=\"url(#clip2401)\">\n",
       "<text style=\"fill:#000000; fill-opacity:1; font-family:Arial,Helvetica Neue,Helvetica,sans-serif; font-size:38px; text-anchor:start;\" transform=\"rotate(0, 231.836, 654.515)\" x=\"231.836\" y=\"654.515\">2 </text>\n",
       "</g>\n",
       "<g clip-path=\"url(#clip2401)\">\n",
       "<text style=\"fill:#000000; fill-opacity:1; font-family:Arial,Helvetica Neue,Helvetica,sans-serif; font-size:48px; text-anchor:start;\" transform=\"rotate(0, 155.471, 433.454)\" x=\"155.471\" y=\"433.454\">10</text>\n",
       "</g>\n",
       "<g clip-path=\"url(#clip2401)\">\n",
       "<text style=\"fill:#000000; fill-opacity:1; font-family:Arial,Helvetica Neue,Helvetica,sans-serif; font-size:38px; text-anchor:start;\" transform=\"rotate(0, 208.996, 406.044)\" x=\"208.996\" y=\"406.044\">-</text>\n",
       "</g>\n",
       "<g clip-path=\"url(#clip2401)\">\n",
       "<text style=\"fill:#000000; fill-opacity:1; font-family:Arial,Helvetica Neue,Helvetica,sans-serif; font-size:38px; text-anchor:start;\" transform=\"rotate(0, 231.836, 406.044)\" x=\"231.836\" y=\"406.044\">1 </text>\n",
       "</g>\n",
       "<g clip-path=\"url(#clip2401)\">\n",
       "<text style=\"fill:#000000; fill-opacity:1; font-family:Arial,Helvetica Neue,Helvetica,sans-serif; font-size:48px; text-anchor:start;\" transform=\"rotate(0, 178.311, 184.983)\" x=\"178.311\" y=\"184.983\">10</text>\n",
       "</g>\n",
       "<g clip-path=\"url(#clip2401)\">\n",
       "<text style=\"fill:#000000; fill-opacity:1; font-family:Arial,Helvetica Neue,Helvetica,sans-serif; font-size:38px; text-anchor:start;\" transform=\"rotate(0, 231.836, 157.573)\" x=\"231.836\" y=\"157.573\">0 </text>\n",
       "</g>\n",
       "<g clip-path=\"url(#clip2401)\">\n",
       "<text style=\"fill:#000000; fill-opacity:1; font-family:Arial,Helvetica Neue,Helvetica,sans-serif; font-size:66px; text-anchor:middle;\" transform=\"rotate(0, 1304.86, 1590.4)\" x=\"1304.86\" y=\"1590.4\">N</text>\n",
       "</g>\n",
       "<g clip-path=\"url(#clip2401)\">\n",
       "<text style=\"fill:#000000; fill-opacity:1; font-family:Arial,Helvetica Neue,Helvetica,sans-serif; font-size:66px; text-anchor:middle;\" transform=\"rotate(-90, 57.6, 743.863)\" x=\"57.6\" y=\"743.863\">CPU time (s)</text>\n",
       "</g>\n",
       "<circle clip-path=\"url(#clip2403)\" style=\"fill:#000000; stroke:none; fill-opacity:1\" cx=\"345.984\" cy=\"1315.78\" r=\"18\"/>\n",
       "<circle clip-path=\"url(#clip2403)\" style=\"fill:#009af9; stroke:none; fill-opacity:1\" cx=\"345.984\" cy=\"1315.78\" r=\"14\"/>\n",
       "<circle clip-path=\"url(#clip2403)\" style=\"fill:#000000; stroke:none; fill-opacity:1\" cx=\"473.834\" cy=\"1262.74\" r=\"18\"/>\n",
       "<circle clip-path=\"url(#clip2403)\" style=\"fill:#009af9; stroke:none; fill-opacity:1\" cx=\"473.834\" cy=\"1262.74\" r=\"14\"/>\n",
       "<circle clip-path=\"url(#clip2403)\" style=\"fill:#000000; stroke:none; fill-opacity:1\" cx=\"601.684\" cy=\"1185.73\" r=\"18\"/>\n",
       "<circle clip-path=\"url(#clip2403)\" style=\"fill:#009af9; stroke:none; fill-opacity:1\" cx=\"601.684\" cy=\"1185.73\" r=\"14\"/>\n",
       "<circle clip-path=\"url(#clip2403)\" style=\"fill:#000000; stroke:none; fill-opacity:1\" cx=\"729.533\" cy=\"1095.37\" r=\"18\"/>\n",
       "<circle clip-path=\"url(#clip2403)\" style=\"fill:#009af9; stroke:none; fill-opacity:1\" cx=\"729.533\" cy=\"1095.37\" r=\"14\"/>\n",
       "<circle clip-path=\"url(#clip2403)\" style=\"fill:#000000; stroke:none; fill-opacity:1\" cx=\"857.383\" cy=\"1036.85\" r=\"18\"/>\n",
       "<circle clip-path=\"url(#clip2403)\" style=\"fill:#009af9; stroke:none; fill-opacity:1\" cx=\"857.383\" cy=\"1036.85\" r=\"14\"/>\n",
       "<circle clip-path=\"url(#clip2403)\" style=\"fill:#000000; stroke:none; fill-opacity:1\" cx=\"985.232\" cy=\"871.461\" r=\"18\"/>\n",
       "<circle clip-path=\"url(#clip2403)\" style=\"fill:#009af9; stroke:none; fill-opacity:1\" cx=\"985.232\" cy=\"871.461\" r=\"14\"/>\n",
       "<circle clip-path=\"url(#clip2403)\" style=\"fill:#000000; stroke:none; fill-opacity:1\" cx=\"1113.08\" cy=\"799.943\" r=\"18\"/>\n",
       "<circle clip-path=\"url(#clip2403)\" style=\"fill:#009af9; stroke:none; fill-opacity:1\" cx=\"1113.08\" cy=\"799.943\" r=\"14\"/>\n",
       "<circle clip-path=\"url(#clip2403)\" style=\"fill:#000000; stroke:none; fill-opacity:1\" cx=\"1240.93\" cy=\"726.133\" r=\"18\"/>\n",
       "<circle clip-path=\"url(#clip2403)\" style=\"fill:#009af9; stroke:none; fill-opacity:1\" cx=\"1240.93\" cy=\"726.133\" r=\"14\"/>\n",
       "<circle clip-path=\"url(#clip2403)\" style=\"fill:#000000; stroke:none; fill-opacity:1\" cx=\"1368.78\" cy=\"651.501\" r=\"18\"/>\n",
       "<circle clip-path=\"url(#clip2403)\" style=\"fill:#009af9; stroke:none; fill-opacity:1\" cx=\"1368.78\" cy=\"651.501\" r=\"14\"/>\n",
       "<circle clip-path=\"url(#clip2403)\" style=\"fill:#000000; stroke:none; fill-opacity:1\" cx=\"1496.63\" cy=\"576.55\" r=\"18\"/>\n",
       "<circle clip-path=\"url(#clip2403)\" style=\"fill:#009af9; stroke:none; fill-opacity:1\" cx=\"1496.63\" cy=\"576.55\" r=\"14\"/>\n",
       "<circle clip-path=\"url(#clip2403)\" style=\"fill:#000000; stroke:none; fill-opacity:1\" cx=\"1624.48\" cy=\"352.191\" r=\"18\"/>\n",
       "<circle clip-path=\"url(#clip2403)\" style=\"fill:#009af9; stroke:none; fill-opacity:1\" cx=\"1624.48\" cy=\"352.191\" r=\"14\"/>\n",
       "<circle clip-path=\"url(#clip2403)\" style=\"fill:#000000; stroke:none; fill-opacity:1\" cx=\"1752.33\" cy=\"438.95\" r=\"18\"/>\n",
       "<circle clip-path=\"url(#clip2403)\" style=\"fill:#009af9; stroke:none; fill-opacity:1\" cx=\"1752.33\" cy=\"438.95\" r=\"14\"/>\n",
       "<circle clip-path=\"url(#clip2403)\" style=\"fill:#000000; stroke:none; fill-opacity:1\" cx=\"1880.18\" cy=\"293.578\" r=\"18\"/>\n",
       "<circle clip-path=\"url(#clip2403)\" style=\"fill:#009af9; stroke:none; fill-opacity:1\" cx=\"1880.18\" cy=\"293.578\" r=\"14\"/>\n",
       "<circle clip-path=\"url(#clip2403)\" style=\"fill:#000000; stroke:none; fill-opacity:1\" cx=\"2008.03\" cy=\"223.275\" r=\"18\"/>\n",
       "<circle clip-path=\"url(#clip2403)\" style=\"fill:#009af9; stroke:none; fill-opacity:1\" cx=\"2008.03\" cy=\"223.275\" r=\"14\"/>\n",
       "<circle clip-path=\"url(#clip2403)\" style=\"fill:#000000; stroke:none; fill-opacity:1\" cx=\"2135.88\" cy=\"145.713\" r=\"18\"/>\n",
       "<circle clip-path=\"url(#clip2403)\" style=\"fill:#009af9; stroke:none; fill-opacity:1\" cx=\"2135.88\" cy=\"145.713\" r=\"14\"/>\n",
       "<circle clip-path=\"url(#clip2403)\" style=\"fill:#000000; stroke:none; fill-opacity:1\" cx=\"2263.73\" cy=\"86.6754\" r=\"18\"/>\n",
       "<circle clip-path=\"url(#clip2403)\" style=\"fill:#009af9; stroke:none; fill-opacity:1\" cx=\"2263.73\" cy=\"86.6754\" r=\"14\"/>\n",
       "<polyline clip-path=\"url(#clip2403)\" style=\"stroke:#e26f46; stroke-width:4; stroke-opacity:1; fill:none\" points=\"\n",
       "  345.984,1401.05 473.834,1326.25 601.684,1251.46 729.533,1176.66 857.383,1101.86 985.232,1027.07 1113.08,952.268 1240.93,877.471 1368.78,802.674 1496.63,727.876 \n",
       "  1624.48,653.079 1752.33,578.282 1880.18,503.485 2008.03,428.688 2135.88,353.89 2263.73,279.093 \n",
       "  \"/>\n",
       "<polygon clip-path=\"url(#clip2401)\" points=\"\n",
       "1624.09,312.204 2249.26,312.204 2249.26,130.764 1624.09,130.764 \n",
       "  \" fill=\"#ffffff\" fill-rule=\"evenodd\" fill-opacity=\"1\"/>\n",
       "<polyline clip-path=\"url(#clip2401)\" style=\"stroke:#000000; stroke-width:4; stroke-opacity:1; fill:none\" points=\"\n",
       "  1624.09,312.204 2249.26,312.204 2249.26,130.764 1624.09,130.764 1624.09,312.204 \n",
       "  \"/>\n",
       "<circle clip-path=\"url(#clip2401)\" style=\"fill:#000000; stroke:none; fill-opacity:1\" cx=\"1732.09\" cy=\"191.244\" r=\"25\"/>\n",
       "<circle clip-path=\"url(#clip2401)\" style=\"fill:#009af9; stroke:none; fill-opacity:1\" cx=\"1732.09\" cy=\"191.244\" r=\"21\"/>\n",
       "<g clip-path=\"url(#clip2401)\">\n",
       "<text style=\"fill:#000000; fill-opacity:1; font-family:Arial,Helvetica Neue,Helvetica,sans-serif; font-size:48px; text-anchor:start;\" transform=\"rotate(0, 1816.09, 208.744)\" x=\"1816.09\" y=\"208.744\">Thomas algorithm</text>\n",
       "</g>\n",
       "<polyline clip-path=\"url(#clip2401)\" style=\"stroke:#e26f46; stroke-width:4; stroke-opacity:1; fill:none\" points=\"\n",
       "  1648.09,251.724 1792.09,251.724 \n",
       "  \"/>\n",
       "<g clip-path=\"url(#clip2401)\">\n",
       "<image width=\"110\" height=\"47\" xlink:href=\"data:image/png;base64,\n",
       "iVBORw0KGgoAAAANSUhEUgAAAG4AAAAvCAYAAAACX/8yAAAG+klEQVR4nN1c7XGjPBBee94CZJcA\n",
       "HcgugXRAXAJ3FZCUwKQC+0ogroBQAk4FQAmCDvb9cbNEiG8hnZ3szP5IDGK1X89KWgBEhO/Ovu/j\n",
       "+XzGe8uxhvM8R8455nk+ax5b+MZUVRUeDges6xp+/fq1ubc8a8h13c3pdILj8Qi32w2nrv9v7QPf\n",
       "398xTVMoy7Jhxhjs93twHAd834fT6QS73c6oYquqwuPxCAAAaZouvr8oCrxeryCE6P19v9+D7/vg\n",
       "uu5suYuiwD9//sy69vX1taOTl5eXTVmWeDweIc9zHH22TlhnWYZBECAAIACg53kYhiHGcYxZlmGS\n",
       "JBhFEXLOm2uCIEAhhLF05nkeMsZmpxaVz+dzI9sQe563aOwoiibHJM6ybHBszjkyxkb1tWiyQgj0\n",
       "fb9ljCnFJUmCjLHmniRJVhsvDEMEAIzj2IgjCCEwy7JeBes4Rp7nqBrR931MkmTWeHmeIwAg53y9\n",
       "4WRBloAoKcZxnOb+NYVEkiRa0TB3XDlLAACGYaj9HHJynflSRoiiqPfeWYN4nteKMp1JkBfNSRVj\n",
       "TA6gmyKHOAxDdBynE3mMMe3nBEGAjuNo3z8219EbhRAtDxyy/hLlrFEIeaGu84wx57wZV4063QzB\n",
       "OV8VsXEcN2l2tuHyPG9hkwllCSG0FSKEaOQxHW2ICDJmksJkaNCd61pMpzmr4wzeIGOSjuBzxl2S\n",
       "RihaTWMb4he+yQ4hO61Oaqcx18pGtYU6796LZUybKkuXsryMWBI9pEhTlaTqFGrqltP6ULqaGtOE\n",
       "w8tZStZV7wNN5PexCS0dn7zXhAf3Mee8Yxi1mAKARQ68Ft/UsdQKt3WBWlGZTJHE6vpmDnZSWW0j\n",
       "TSL+xbc+B5Izz9LizNSaFfHL2eWsMCqojbTUtzCdowQTVW0fk7P2pWw50pdUwqbwTZVRxtpmk/nj\n",
       "4wPlPT/GGDw/PxvfuFX3BsuyHL1e3nD1PM+0OJCmKTDGevckn56eNo7jNH/XdQ0fHx+oXtc3Jufc\n",
       "mIyHw6GRjWzUGO7379+ti4MgMPZgmVRDyYrpI9mZpq7VoTRNRx1C1cPb29vqMXWI5t7oQw1FAL3y\n",
       "dy6ri9spjKP0vWYHYyoNjxVI6toTZlTCYBDfiAnnSQ9bAIA4jlvWZYy1wtMkfX5+tv6eiiKKUDrC\n",
       "MUmUhseiY7fbbZZEHaXSp6cno/ojPdV1DVVV4RYAQD1DOp1OJp/ZUN8B4VzDMcaMyzOGbzKphhs7\n",
       "czONb0SynsqyhO3tdsO6rlsX2SgCAPoPPMeeVVVVY+j9fm9FnjlzPRwOG9UYl8ult0ixgW8A7fmX\n",
       "ZQnbvqrORhEA0E3JnueNnozLstmKuLlKfn19bf09lC4/Pz+tGE6e/6DhbOBbURSo4pvv+6P3yEsH\n",
       "0xE3B99ken5+3qjKU1O/LXwD6M6/Yzhb0daHC0uw1HTEzcU3mVSsi6KoM6YNfANoz18IAVt1QWwj\n",
       "JQF0DRcEwWQDkYq9JkkHi1TDXa/XFg7bwjeV6rrutufZKALe3987BZDqrX1ky4kAALIsW6xk13U3\n",
       "6j2yQ9rCN4C2EzPGYGsrNcqkAnsURYvb9UxGX1EUWNe1lpLDMGz9TQ5I+GZjvQnQxfuO4Yb6DHXp\n",
       "crmgjKOO48DLy8sso8nRb1IuHXwj6tu/pN5Szrnx/lH5OTJtVa+b2vRdQlVVoRxtjDFIkmT2/aqC\n",
       "TNFaLOpbkNvGN9lxHcf5u1epHtObOvFWj4l09u/o3qUn0GPMGFt1RNS3fwmWjsGI5eOwLMu6/wRD\n",
       "p96mTtKpR8XUoS6dbK/dRFdbMEw6/JQ+hRBtL6Qf1ipJbe9e44ly1JpQADnp2nHUE5U1/ZNzWD0d\n",
       "aH5QW9J0I0SOXsbYas+WxzPRluc4jjElq+9G2DQcZR6CjNaPanpbonT1vYKlbepDLHv2mshV5TMh\n",
       "m+zsNvENsdu+0blAjZg5BcX5fG6aVRljxieh69VRFGEQBKgWSXLBQ28Z6cpG87aJb3LvCwXToJfL\n",
       "acDzPIzjGPM8RyEE5nmOcRwj9SNSjrfRzIP4ld+XYO9Q5TdkQF3Zoiiy1n1GPNnl1WfpIAhQXS7I\n",
       "gBwEgbU2hz6Ps+nZj8qTfZVTnOd5E3X/Wnhynu/+rvdSlhtzZVxe9A6467ob13U3trZ1xoh2K67X\n",
       "679+9F2J5ut5XnuL7t4eNZeHeuh/OlOmUeHo23x1YbfbbWgnfk5v40+gy+WCdV2D7/vdroR7e9RS\n",
       "tvVG6iMyzbWvpri7cEvZ1jvgj8a0nh564+fuAuqw6a8uPBob/erCo/Ha75w8Mhv/zskjMX2Cw3Gc\n",
       "H7Uop12iqU2Nuwu61nic8x+Dd7SFOGcn6tssB/pot9ttbrfbhjE22BL+XagoCkzTFLIsm9WQ/D/B\n",
       "VSfxP4qj8AAAAABJRU5ErkJggg==\n",
       "\" transform=\"translate(1816, 228)\"/>\n",
       "</g>\n",
       "</svg>\n"
      ]
     },
     "execution_count": 34,
     "metadata": {},
     "output_type": "execute_result"
    }
   ],
   "source": [
    "plot(N,cputime,xscale=:log10,yscale=:log10,seriestype=:scatter,label=\"Thomas algorithm\")\n",
    "plot!(N,1e-8*N,xscale=:log10,yscale=:log10,label=\"\\$O(N)\\$\",xlabel=\"N\",ylabel=\"CPU time (s)\")"
   ]
  },
  {
   "cell_type": "markdown",
   "metadata": {},
   "source": [
    "### Testing the numerical integration"
   ]
  },
  {
   "cell_type": "code",
   "execution_count": 35,
   "metadata": {},
   "outputs": [
    {
     "data": {
      "text/plain": [
       "9458.389637191443"
      ]
     },
     "execution_count": 35,
     "metadata": {},
     "output_type": "execute_result"
    }
   ],
   "source": [
    "c1 = 1\n",
    "c2 = 100\n",
    "α1 = 0.01\n",
    "α2 = 0.3\n",
    "δ = sqrt(0.001)\n",
    "fcn(x::Real) = c1/sqrt(x+α1) + c2/((x-α2)^2+δ^2) - π\n",
    "Ifcn = 2*c1*(sqrt(1+α1)-sqrt(α1)) + c2/δ*(atan(α2/δ) - atan((α2-1)/δ))-π"
   ]
  },
  {
   "cell_type": "code",
   "execution_count": 36,
   "metadata": {},
   "outputs": [
    {
     "data": {
      "text/plain": [
       "9682.540941996644"
      ]
     },
     "execution_count": 36,
     "metadata": {},
     "output_type": "execute_result"
    }
   ],
   "source": [
    "HW1.numerical_integrate(fcn,0,1,\"trapezoidal\",N=16)"
   ]
  },
  {
   "cell_type": "code",
   "execution_count": 37,
   "metadata": {},
   "outputs": [],
   "source": [
    "N = [16,32,64,128,256,512,1024,2048,4096]\n",
    "errtrap = []\n",
    "errsimp = []\n",
    "for Ni in N\n",
    "    Ii = HW1.numerical_integrate(fcn,0,1,\"trapezoidal\",N=Ni)\n",
    "    push!(errtrap,abs(Ii-Ifcn))\n",
    "    Ii = HW1.numerical_integrate(fcn,0,1,\"simpson\",N=Ni)\n",
    "    push!(errsimp,abs(Ii-Ifcn))\n",
    "end"
   ]
  },
  {
   "cell_type": "markdown",
   "metadata": {},
   "source": [
    "The plot below shows the error scalings of both algorithms. For small values of N it is a complicated mix, but as N increases the true scaling sorts itself out: 1/N^2 for trapezoidal and 1/N^4 for Simpson's rule"
   ]
  },
  {
   "cell_type": "code",
   "execution_count": 38,
   "metadata": {},
   "outputs": [
    {
     "data": {
      "image/svg+xml": [
       "<?xml version=\"1.0\" encoding=\"utf-8\"?>\n",
       "<svg xmlns=\"http://www.w3.org/2000/svg\" xmlns:xlink=\"http://www.w3.org/1999/xlink\" width=\"600\" height=\"400\" viewBox=\"0 0 2400 1600\">\n",
       "<defs>\n",
       "  <clipPath id=\"clip2600\">\n",
       "    <rect x=\"0\" y=\"0\" width=\"2000\" height=\"2000\"/>\n",
       "  </clipPath>\n",
       "</defs>\n",
       "<defs>\n",
       "  <clipPath id=\"clip2601\">\n",
       "    <rect x=\"0\" y=\"0\" width=\"2400\" height=\"1600\"/>\n",
       "  </clipPath>\n",
       "</defs>\n",
       "<polygon clip-path=\"url(#clip2601)\" points=\"\n",
       "0,1600 2400,1600 2400,0 0,0 \n",
       "  \" fill=\"#ffffff\" fill-rule=\"evenodd\" fill-opacity=\"1\"/>\n",
       "<defs>\n",
       "  <clipPath id=\"clip2602\">\n",
       "    <rect x=\"480\" y=\"0\" width=\"1681\" height=\"1600\"/>\n",
       "  </clipPath>\n",
       "</defs>\n",
       "<polygon clip-path=\"url(#clip2601)\" points=\"\n",
       "315.214,1440.48 2321.26,1440.48 2321.26,47.2441 315.214,47.2441 \n",
       "  \" fill=\"#ffffff\" fill-rule=\"evenodd\" fill-opacity=\"1\"/>\n",
       "<defs>\n",
       "  <clipPath id=\"clip2603\">\n",
       "    <rect x=\"315\" y=\"47\" width=\"2007\" height=\"1394\"/>\n",
       "  </clipPath>\n",
       "</defs>\n",
       "<polyline clip-path=\"url(#clip2603)\" style=\"stroke:#000000; stroke-width:2; stroke-opacity:0.1; fill:none\" points=\"\n",
       "  604.504,1440.48 604.504,47.2441 \n",
       "  \"/>\n",
       "<polyline clip-path=\"url(#clip2603)\" style=\"stroke:#000000; stroke-width:2; stroke-opacity:0.1; fill:none\" points=\"\n",
       "  997.425,1440.48 997.425,47.2441 \n",
       "  \"/>\n",
       "<polyline clip-path=\"url(#clip2603)\" style=\"stroke:#000000; stroke-width:2; stroke-opacity:0.1; fill:none\" points=\"\n",
       "  1390.35,1440.48 1390.35,47.2441 \n",
       "  \"/>\n",
       "<polyline clip-path=\"url(#clip2603)\" style=\"stroke:#000000; stroke-width:2; stroke-opacity:0.1; fill:none\" points=\"\n",
       "  1783.27,1440.48 1783.27,47.2441 \n",
       "  \"/>\n",
       "<polyline clip-path=\"url(#clip2603)\" style=\"stroke:#000000; stroke-width:2; stroke-opacity:0.1; fill:none\" points=\"\n",
       "  2176.19,1440.48 2176.19,47.2441 \n",
       "  \"/>\n",
       "<polyline clip-path=\"url(#clip2603)\" style=\"stroke:#000000; stroke-width:2; stroke-opacity:0.1; fill:none\" points=\"\n",
       "  315.214,1357.5 2321.26,1357.5 \n",
       "  \"/>\n",
       "<polyline clip-path=\"url(#clip2603)\" style=\"stroke:#000000; stroke-width:2; stroke-opacity:0.1; fill:none\" points=\"\n",
       "  315.214,1163.69 2321.26,1163.69 \n",
       "  \"/>\n",
       "<polyline clip-path=\"url(#clip2603)\" style=\"stroke:#000000; stroke-width:2; stroke-opacity:0.1; fill:none\" points=\"\n",
       "  315.214,969.873 2321.26,969.873 \n",
       "  \"/>\n",
       "<polyline clip-path=\"url(#clip2603)\" style=\"stroke:#000000; stroke-width:2; stroke-opacity:0.1; fill:none\" points=\"\n",
       "  315.214,776.06 2321.26,776.06 \n",
       "  \"/>\n",
       "<polyline clip-path=\"url(#clip2603)\" style=\"stroke:#000000; stroke-width:2; stroke-opacity:0.1; fill:none\" points=\"\n",
       "  315.214,582.248 2321.26,582.248 \n",
       "  \"/>\n",
       "<polyline clip-path=\"url(#clip2603)\" style=\"stroke:#000000; stroke-width:2; stroke-opacity:0.1; fill:none\" points=\"\n",
       "  315.214,388.435 2321.26,388.435 \n",
       "  \"/>\n",
       "<polyline clip-path=\"url(#clip2603)\" style=\"stroke:#000000; stroke-width:2; stroke-opacity:0.1; fill:none\" points=\"\n",
       "  315.214,194.623 2321.26,194.623 \n",
       "  \"/>\n",
       "<polyline clip-path=\"url(#clip2601)\" style=\"stroke:#000000; stroke-width:4; stroke-opacity:1; fill:none\" points=\"\n",
       "  315.214,1440.48 2321.26,1440.48 \n",
       "  \"/>\n",
       "<polyline clip-path=\"url(#clip2601)\" style=\"stroke:#000000; stroke-width:4; stroke-opacity:1; fill:none\" points=\"\n",
       "  315.214,1440.48 315.214,47.2441 \n",
       "  \"/>\n",
       "<polyline clip-path=\"url(#clip2601)\" style=\"stroke:#000000; stroke-width:4; stroke-opacity:1; fill:none\" points=\"\n",
       "  604.504,1440.48 604.504,1419.58 \n",
       "  \"/>\n",
       "<polyline clip-path=\"url(#clip2601)\" style=\"stroke:#000000; stroke-width:4; stroke-opacity:1; fill:none\" points=\"\n",
       "  997.425,1440.48 997.425,1419.58 \n",
       "  \"/>\n",
       "<polyline clip-path=\"url(#clip2601)\" style=\"stroke:#000000; stroke-width:4; stroke-opacity:1; fill:none\" points=\"\n",
       "  1390.35,1440.48 1390.35,1419.58 \n",
       "  \"/>\n",
       "<polyline clip-path=\"url(#clip2601)\" style=\"stroke:#000000; stroke-width:4; stroke-opacity:1; fill:none\" points=\"\n",
       "  1783.27,1440.48 1783.27,1419.58 \n",
       "  \"/>\n",
       "<polyline clip-path=\"url(#clip2601)\" style=\"stroke:#000000; stroke-width:4; stroke-opacity:1; fill:none\" points=\"\n",
       "  2176.19,1440.48 2176.19,1419.58 \n",
       "  \"/>\n",
       "<polyline clip-path=\"url(#clip2601)\" style=\"stroke:#000000; stroke-width:4; stroke-opacity:1; fill:none\" points=\"\n",
       "  315.214,1357.5 345.305,1357.5 \n",
       "  \"/>\n",
       "<polyline clip-path=\"url(#clip2601)\" style=\"stroke:#000000; stroke-width:4; stroke-opacity:1; fill:none\" points=\"\n",
       "  315.214,1163.69 345.305,1163.69 \n",
       "  \"/>\n",
       "<polyline clip-path=\"url(#clip2601)\" style=\"stroke:#000000; stroke-width:4; stroke-opacity:1; fill:none\" points=\"\n",
       "  315.214,969.873 345.305,969.873 \n",
       "  \"/>\n",
       "<polyline clip-path=\"url(#clip2601)\" style=\"stroke:#000000; stroke-width:4; stroke-opacity:1; fill:none\" points=\"\n",
       "  315.214,776.06 345.305,776.06 \n",
       "  \"/>\n",
       "<polyline clip-path=\"url(#clip2601)\" style=\"stroke:#000000; stroke-width:4; stroke-opacity:1; fill:none\" points=\"\n",
       "  315.214,582.248 345.305,582.248 \n",
       "  \"/>\n",
       "<polyline clip-path=\"url(#clip2601)\" style=\"stroke:#000000; stroke-width:4; stroke-opacity:1; fill:none\" points=\"\n",
       "  315.214,388.435 345.305,388.435 \n",
       "  \"/>\n",
       "<polyline clip-path=\"url(#clip2601)\" style=\"stroke:#000000; stroke-width:4; stroke-opacity:1; fill:none\" points=\"\n",
       "  315.214,194.623 345.305,194.623 \n",
       "  \"/>\n",
       "<g clip-path=\"url(#clip2601)\">\n",
       "<text style=\"fill:#000000; fill-opacity:1; font-family:Arial,Helvetica Neue,Helvetica,sans-serif; font-size:48px; text-anchor:start;\" transform=\"rotate(0, 545.125, 1515.49)\" x=\"545.125\" y=\"1515.49\">10</text>\n",
       "</g>\n",
       "<g clip-path=\"url(#clip2601)\">\n",
       "<text style=\"fill:#000000; fill-opacity:1; font-family:Arial,Helvetica Neue,Helvetica,sans-serif; font-size:38px; text-anchor:start;\" transform=\"rotate(0, 598.65, 1488.08)\" x=\"598.65\" y=\"1488.08\">1.5 </text>\n",
       "</g>\n",
       "<g clip-path=\"url(#clip2601)\">\n",
       "<text style=\"fill:#000000; fill-opacity:1; font-family:Arial,Helvetica Neue,Helvetica,sans-serif; font-size:48px; text-anchor:start;\" transform=\"rotate(0, 938.046, 1515.49)\" x=\"938.046\" y=\"1515.49\">10</text>\n",
       "</g>\n",
       "<g clip-path=\"url(#clip2601)\">\n",
       "<text style=\"fill:#000000; fill-opacity:1; font-family:Arial,Helvetica Neue,Helvetica,sans-serif; font-size:38px; text-anchor:start;\" transform=\"rotate(0, 991.571, 1488.08)\" x=\"991.571\" y=\"1488.08\">2.0 </text>\n",
       "</g>\n",
       "<g clip-path=\"url(#clip2601)\">\n",
       "<text style=\"fill:#000000; fill-opacity:1; font-family:Arial,Helvetica Neue,Helvetica,sans-serif; font-size:48px; text-anchor:start;\" transform=\"rotate(0, 1330.97, 1515.49)\" x=\"1330.97\" y=\"1515.49\">10</text>\n",
       "</g>\n",
       "<g clip-path=\"url(#clip2601)\">\n",
       "<text style=\"fill:#000000; fill-opacity:1; font-family:Arial,Helvetica Neue,Helvetica,sans-serif; font-size:38px; text-anchor:start;\" transform=\"rotate(0, 1384.49, 1488.08)\" x=\"1384.49\" y=\"1488.08\">2.5 </text>\n",
       "</g>\n",
       "<g clip-path=\"url(#clip2601)\">\n",
       "<text style=\"fill:#000000; fill-opacity:1; font-family:Arial,Helvetica Neue,Helvetica,sans-serif; font-size:48px; text-anchor:start;\" transform=\"rotate(0, 1723.89, 1515.49)\" x=\"1723.89\" y=\"1515.49\">10</text>\n",
       "</g>\n",
       "<g clip-path=\"url(#clip2601)\">\n",
       "<text style=\"fill:#000000; fill-opacity:1; font-family:Arial,Helvetica Neue,Helvetica,sans-serif; font-size:38px; text-anchor:start;\" transform=\"rotate(0, 1777.41, 1488.08)\" x=\"1777.41\" y=\"1488.08\">3.0 </text>\n",
       "</g>\n",
       "<g clip-path=\"url(#clip2601)\">\n",
       "<text style=\"fill:#000000; fill-opacity:1; font-family:Arial,Helvetica Neue,Helvetica,sans-serif; font-size:48px; text-anchor:start;\" transform=\"rotate(0, 2116.81, 1515.49)\" x=\"2116.81\" y=\"1515.49\">10</text>\n",
       "</g>\n",
       "<g clip-path=\"url(#clip2601)\">\n",
       "<text style=\"fill:#000000; fill-opacity:1; font-family:Arial,Helvetica Neue,Helvetica,sans-serif; font-size:38px; text-anchor:start;\" transform=\"rotate(0, 2170.33, 1488.08)\" x=\"2170.33\" y=\"1488.08\">3.5 </text>\n",
       "</g>\n",
       "<g clip-path=\"url(#clip2601)\">\n",
       "<text style=\"fill:#000000; fill-opacity:1; font-family:Arial,Helvetica Neue,Helvetica,sans-serif; font-size:48px; text-anchor:start;\" transform=\"rotate(0, 160.489, 1381.23)\" x=\"160.489\" y=\"1381.23\">10</text>\n",
       "</g>\n",
       "<g clip-path=\"url(#clip2601)\">\n",
       "<text style=\"fill:#000000; fill-opacity:1; font-family:Arial,Helvetica Neue,Helvetica,sans-serif; font-size:38px; text-anchor:start;\" transform=\"rotate(0, 214.014, 1353.81)\" x=\"214.014\" y=\"1353.81\">-</text>\n",
       "</g>\n",
       "<g clip-path=\"url(#clip2601)\">\n",
       "<text style=\"fill:#000000; fill-opacity:1; font-family:Arial,Helvetica Neue,Helvetica,sans-serif; font-size:38px; text-anchor:start;\" transform=\"rotate(0, 236.853, 1353.81)\" x=\"236.853\" y=\"1353.81\">10 </text>\n",
       "</g>\n",
       "<g clip-path=\"url(#clip2601)\">\n",
       "<text style=\"fill:#000000; fill-opacity:1; font-family:Arial,Helvetica Neue,Helvetica,sans-serif; font-size:48px; text-anchor:start;\" transform=\"rotate(0, 182.234, 1187.41)\" x=\"182.234\" y=\"1187.41\">10</text>\n",
       "</g>\n",
       "<g clip-path=\"url(#clip2601)\">\n",
       "<text style=\"fill:#000000; fill-opacity:1; font-family:Arial,Helvetica Neue,Helvetica,sans-serif; font-size:38px; text-anchor:start;\" transform=\"rotate(0, 235.758, 1160)\" x=\"235.758\" y=\"1160\">-</text>\n",
       "</g>\n",
       "<g clip-path=\"url(#clip2601)\">\n",
       "<text style=\"fill:#000000; fill-opacity:1; font-family:Arial,Helvetica Neue,Helvetica,sans-serif; font-size:38px; text-anchor:start;\" transform=\"rotate(0, 258.598, 1160)\" x=\"258.598\" y=\"1160\">8 </text>\n",
       "</g>\n",
       "<g clip-path=\"url(#clip2601)\">\n",
       "<text style=\"fill:#000000; fill-opacity:1; font-family:Arial,Helvetica Neue,Helvetica,sans-serif; font-size:48px; text-anchor:start;\" transform=\"rotate(0, 182.234, 993.6)\" x=\"182.234\" y=\"993.6\">10</text>\n",
       "</g>\n",
       "<g clip-path=\"url(#clip2601)\">\n",
       "<text style=\"fill:#000000; fill-opacity:1; font-family:Arial,Helvetica Neue,Helvetica,sans-serif; font-size:38px; text-anchor:start;\" transform=\"rotate(0, 235.758, 966.19)\" x=\"235.758\" y=\"966.19\">-</text>\n",
       "</g>\n",
       "<g clip-path=\"url(#clip2601)\">\n",
       "<text style=\"fill:#000000; fill-opacity:1; font-family:Arial,Helvetica Neue,Helvetica,sans-serif; font-size:38px; text-anchor:start;\" transform=\"rotate(0, 258.598, 966.19)\" x=\"258.598\" y=\"966.19\">6 </text>\n",
       "</g>\n",
       "<g clip-path=\"url(#clip2601)\">\n",
       "<text style=\"fill:#000000; fill-opacity:1; font-family:Arial,Helvetica Neue,Helvetica,sans-serif; font-size:48px; text-anchor:start;\" transform=\"rotate(0, 182.234, 799.788)\" x=\"182.234\" y=\"799.788\">10</text>\n",
       "</g>\n",
       "<g clip-path=\"url(#clip2601)\">\n",
       "<text style=\"fill:#000000; fill-opacity:1; font-family:Arial,Helvetica Neue,Helvetica,sans-serif; font-size:38px; text-anchor:start;\" transform=\"rotate(0, 235.758, 772.377)\" x=\"235.758\" y=\"772.377\">-</text>\n",
       "</g>\n",
       "<g clip-path=\"url(#clip2601)\">\n",
       "<text style=\"fill:#000000; fill-opacity:1; font-family:Arial,Helvetica Neue,Helvetica,sans-serif; font-size:38px; text-anchor:start;\" transform=\"rotate(0, 258.598, 772.377)\" x=\"258.598\" y=\"772.377\">4 </text>\n",
       "</g>\n",
       "<g clip-path=\"url(#clip2601)\">\n",
       "<text style=\"fill:#000000; fill-opacity:1; font-family:Arial,Helvetica Neue,Helvetica,sans-serif; font-size:48px; text-anchor:start;\" transform=\"rotate(0, 182.234, 605.975)\" x=\"182.234\" y=\"605.975\">10</text>\n",
       "</g>\n",
       "<g clip-path=\"url(#clip2601)\">\n",
       "<text style=\"fill:#000000; fill-opacity:1; font-family:Arial,Helvetica Neue,Helvetica,sans-serif; font-size:38px; text-anchor:start;\" transform=\"rotate(0, 235.758, 578.565)\" x=\"235.758\" y=\"578.565\">-</text>\n",
       "</g>\n",
       "<g clip-path=\"url(#clip2601)\">\n",
       "<text style=\"fill:#000000; fill-opacity:1; font-family:Arial,Helvetica Neue,Helvetica,sans-serif; font-size:38px; text-anchor:start;\" transform=\"rotate(0, 258.598, 578.565)\" x=\"258.598\" y=\"578.565\">2 </text>\n",
       "</g>\n",
       "<g clip-path=\"url(#clip2601)\">\n",
       "<text style=\"fill:#000000; fill-opacity:1; font-family:Arial,Helvetica Neue,Helvetica,sans-serif; font-size:48px; text-anchor:start;\" transform=\"rotate(0, 205.073, 412.163)\" x=\"205.073\" y=\"412.163\">10</text>\n",
       "</g>\n",
       "<g clip-path=\"url(#clip2601)\">\n",
       "<text style=\"fill:#000000; fill-opacity:1; font-family:Arial,Helvetica Neue,Helvetica,sans-serif; font-size:38px; text-anchor:start;\" transform=\"rotate(0, 258.598, 384.752)\" x=\"258.598\" y=\"384.752\">0 </text>\n",
       "</g>\n",
       "<g clip-path=\"url(#clip2601)\">\n",
       "<text style=\"fill:#000000; fill-opacity:1; font-family:Arial,Helvetica Neue,Helvetica,sans-serif; font-size:48px; text-anchor:start;\" transform=\"rotate(0, 205.073, 218.35)\" x=\"205.073\" y=\"218.35\">10</text>\n",
       "</g>\n",
       "<g clip-path=\"url(#clip2601)\">\n",
       "<text style=\"fill:#000000; fill-opacity:1; font-family:Arial,Helvetica Neue,Helvetica,sans-serif; font-size:38px; text-anchor:start;\" transform=\"rotate(0, 258.598, 190.94)\" x=\"258.598\" y=\"190.94\">2 </text>\n",
       "</g>\n",
       "<g clip-path=\"url(#clip2601)\">\n",
       "<text style=\"fill:#000000; fill-opacity:1; font-family:Arial,Helvetica Neue,Helvetica,sans-serif; font-size:66px; text-anchor:middle;\" transform=\"rotate(0, 1318.24, 1590.4)\" x=\"1318.24\" y=\"1590.4\">N</text>\n",
       "</g>\n",
       "<g clip-path=\"url(#clip2601)\">\n",
       "<text style=\"fill:#000000; fill-opacity:1; font-family:Arial,Helvetica Neue,Helvetica,sans-serif; font-size:66px; text-anchor:middle;\" transform=\"rotate(-90, 57.6, 743.863)\" x=\"57.6\" y=\"743.863\">|I-Iex|</text>\n",
       "</g>\n",
       "<circle clip-path=\"url(#clip2603)\" style=\"fill:#000000; stroke:none; fill-opacity:1\" cx=\"371.989\" cy=\"160.653\" r=\"18\"/>\n",
       "<circle clip-path=\"url(#clip2603)\" style=\"fill:#009af9; stroke:none; fill-opacity:1\" cx=\"371.989\" cy=\"160.653\" r=\"14\"/>\n",
       "<circle clip-path=\"url(#clip2603)\" style=\"fill:#000000; stroke:none; fill-opacity:1\" cx=\"608.551\" cy=\"247.546\" r=\"18\"/>\n",
       "<circle clip-path=\"url(#clip2603)\" style=\"fill:#009af9; stroke:none; fill-opacity:1\" cx=\"608.551\" cy=\"247.546\" r=\"14\"/>\n",
       "<circle clip-path=\"url(#clip2603)\" style=\"fill:#000000; stroke:none; fill-opacity:1\" cx=\"845.113\" cy=\"473.809\" r=\"18\"/>\n",
       "<circle clip-path=\"url(#clip2603)\" style=\"fill:#009af9; stroke:none; fill-opacity:1\" cx=\"845.113\" cy=\"473.809\" r=\"14\"/>\n",
       "<circle clip-path=\"url(#clip2603)\" style=\"fill:#000000; stroke:none; fill-opacity:1\" cx=\"1081.68\" cy=\"526.798\" r=\"18\"/>\n",
       "<circle clip-path=\"url(#clip2603)\" style=\"fill:#009af9; stroke:none; fill-opacity:1\" cx=\"1081.68\" cy=\"526.798\" r=\"14\"/>\n",
       "<circle clip-path=\"url(#clip2603)\" style=\"fill:#000000; stroke:none; fill-opacity:1\" cx=\"1318.24\" cy=\"585.203\" r=\"18\"/>\n",
       "<circle clip-path=\"url(#clip2603)\" style=\"fill:#009af9; stroke:none; fill-opacity:1\" cx=\"1318.24\" cy=\"585.203\" r=\"14\"/>\n",
       "<circle clip-path=\"url(#clip2603)\" style=\"fill:#000000; stroke:none; fill-opacity:1\" cx=\"1554.8\" cy=\"643.565\" r=\"18\"/>\n",
       "<circle clip-path=\"url(#clip2603)\" style=\"fill:#009af9; stroke:none; fill-opacity:1\" cx=\"1554.8\" cy=\"643.565\" r=\"14\"/>\n",
       "<circle clip-path=\"url(#clip2603)\" style=\"fill:#000000; stroke:none; fill-opacity:1\" cx=\"1791.36\" cy=\"701.913\" r=\"18\"/>\n",
       "<circle clip-path=\"url(#clip2603)\" style=\"fill:#009af9; stroke:none; fill-opacity:1\" cx=\"1791.36\" cy=\"701.913\" r=\"14\"/>\n",
       "<circle clip-path=\"url(#clip2603)\" style=\"fill:#000000; stroke:none; fill-opacity:1\" cx=\"2027.92\" cy=\"760.258\" r=\"18\"/>\n",
       "<circle clip-path=\"url(#clip2603)\" style=\"fill:#009af9; stroke:none; fill-opacity:1\" cx=\"2027.92\" cy=\"760.258\" r=\"14\"/>\n",
       "<circle clip-path=\"url(#clip2603)\" style=\"fill:#000000; stroke:none; fill-opacity:1\" cx=\"2264.48\" cy=\"818.601\" r=\"18\"/>\n",
       "<circle clip-path=\"url(#clip2603)\" style=\"fill:#009af9; stroke:none; fill-opacity:1\" cx=\"2264.48\" cy=\"818.601\" r=\"14\"/>\n",
       "<circle clip-path=\"url(#clip2603)\" style=\"fill:#000000; stroke:none; fill-opacity:1\" cx=\"371.989\" cy=\"86.6754\" r=\"18\"/>\n",
       "<circle clip-path=\"url(#clip2603)\" style=\"fill:#e26f46; stroke:none; fill-opacity:1\" cx=\"371.989\" cy=\"86.6754\" r=\"14\"/>\n",
       "<circle clip-path=\"url(#clip2603)\" style=\"fill:#000000; stroke:none; fill-opacity:1\" cx=\"608.551\" cy=\"189.616\" r=\"18\"/>\n",
       "<circle clip-path=\"url(#clip2603)\" style=\"fill:#e26f46; stroke:none; fill-opacity:1\" cx=\"608.551\" cy=\"189.616\" r=\"14\"/>\n",
       "<circle clip-path=\"url(#clip2603)\" style=\"fill:#000000; stroke:none; fill-opacity:1\" cx=\"845.113\" cy=\"294.568\" r=\"18\"/>\n",
       "<circle clip-path=\"url(#clip2603)\" style=\"fill:#e26f46; stroke:none; fill-opacity:1\" cx=\"845.113\" cy=\"294.568\" r=\"14\"/>\n",
       "<circle clip-path=\"url(#clip2603)\" style=\"fill:#000000; stroke:none; fill-opacity:1\" cx=\"1081.68\" cy=\"604.108\" r=\"18\"/>\n",
       "<circle clip-path=\"url(#clip2603)\" style=\"fill:#e26f46; stroke:none; fill-opacity:1\" cx=\"1081.68\" cy=\"604.108\" r=\"14\"/>\n",
       "<circle clip-path=\"url(#clip2603)\" style=\"fill:#000000; stroke:none; fill-opacity:1\" cx=\"1318.24\" cy=\"847.428\" r=\"18\"/>\n",
       "<circle clip-path=\"url(#clip2603)\" style=\"fill:#e26f46; stroke:none; fill-opacity:1\" cx=\"1318.24\" cy=\"847.428\" r=\"14\"/>\n",
       "<circle clip-path=\"url(#clip2603)\" style=\"fill:#000000; stroke:none; fill-opacity:1\" cx=\"1554.8\" cy=\"957.45\" r=\"18\"/>\n",
       "<circle clip-path=\"url(#clip2603)\" style=\"fill:#e26f46; stroke:none; fill-opacity:1\" cx=\"1554.8\" cy=\"957.45\" r=\"14\"/>\n",
       "<circle clip-path=\"url(#clip2603)\" style=\"fill:#000000; stroke:none; fill-opacity:1\" cx=\"1791.36\" cy=\"1072.02\" r=\"18\"/>\n",
       "<circle clip-path=\"url(#clip2603)\" style=\"fill:#e26f46; stroke:none; fill-opacity:1\" cx=\"1791.36\" cy=\"1072.02\" r=\"14\"/>\n",
       "<circle clip-path=\"url(#clip2603)\" style=\"fill:#000000; stroke:none; fill-opacity:1\" cx=\"2027.92\" cy=\"1188.21\" r=\"18\"/>\n",
       "<circle clip-path=\"url(#clip2603)\" style=\"fill:#e26f46; stroke:none; fill-opacity:1\" cx=\"2027.92\" cy=\"1188.21\" r=\"14\"/>\n",
       "<circle clip-path=\"url(#clip2603)\" style=\"fill:#000000; stroke:none; fill-opacity:1\" cx=\"2264.48\" cy=\"1304.86\" r=\"18\"/>\n",
       "<circle clip-path=\"url(#clip2603)\" style=\"fill:#e26f46; stroke:none; fill-opacity:1\" cx=\"2264.48\" cy=\"1304.86\" r=\"14\"/>\n",
       "<polyline clip-path=\"url(#clip2603)\" style=\"stroke:#3da44d; stroke-width:4; stroke-opacity:1; fill:none\" points=\"\n",
       "  371.989,427.996 608.551,486.34 845.113,544.683 1081.68,603.026 1318.24,661.37 1554.8,719.713 1791.36,778.057 2027.92,836.4 2264.48,894.743 \n",
       "  \"/>\n",
       "<polyline clip-path=\"url(#clip2603)\" style=\"stroke:#c271d2; stroke-width:4; stroke-opacity:1; fill:none\" points=\"\n",
       "  371.989,467.557 608.551,584.244 845.113,700.931 1081.68,817.618 1318.24,934.304 1554.8,1050.99 1791.36,1167.68 2027.92,1284.36 2264.48,1401.05 \n",
       "  \"/>\n",
       "<polygon clip-path=\"url(#clip2601)\" points=\"\n",
       "1757.81,433.164 2249.26,433.164 2249.26,130.764 1757.81,130.764 \n",
       "  \" fill=\"#ffffff\" fill-rule=\"evenodd\" fill-opacity=\"1\"/>\n",
       "<polyline clip-path=\"url(#clip2601)\" style=\"stroke:#000000; stroke-width:4; stroke-opacity:1; fill:none\" points=\"\n",
       "  1757.81,433.164 2249.26,433.164 2249.26,130.764 1757.81,130.764 1757.81,433.164 \n",
       "  \"/>\n",
       "<circle clip-path=\"url(#clip2601)\" style=\"fill:#000000; stroke:none; fill-opacity:1\" cx=\"1865.81\" cy=\"191.244\" r=\"25\"/>\n",
       "<circle clip-path=\"url(#clip2601)\" style=\"fill:#009af9; stroke:none; fill-opacity:1\" cx=\"1865.81\" cy=\"191.244\" r=\"21\"/>\n",
       "<g clip-path=\"url(#clip2601)\">\n",
       "<text style=\"fill:#000000; fill-opacity:1; font-family:Arial,Helvetica Neue,Helvetica,sans-serif; font-size:48px; text-anchor:start;\" transform=\"rotate(0, 1949.81, 208.744)\" x=\"1949.81\" y=\"208.744\">Trapezoidal</text>\n",
       "</g>\n",
       "<circle clip-path=\"url(#clip2601)\" style=\"fill:#000000; stroke:none; fill-opacity:1\" cx=\"1865.81\" cy=\"251.724\" r=\"25\"/>\n",
       "<circle clip-path=\"url(#clip2601)\" style=\"fill:#e26f46; stroke:none; fill-opacity:1\" cx=\"1865.81\" cy=\"251.724\" r=\"21\"/>\n",
       "<g clip-path=\"url(#clip2601)\">\n",
       "<text style=\"fill:#000000; fill-opacity:1; font-family:Arial,Helvetica Neue,Helvetica,sans-serif; font-size:48px; text-anchor:start;\" transform=\"rotate(0, 1949.81, 269.224)\" x=\"1949.81\" y=\"269.224\">Simpsons</text>\n",
       "</g>\n",
       "<polyline clip-path=\"url(#clip2601)\" style=\"stroke:#3da44d; stroke-width:4; stroke-opacity:1; fill:none\" points=\"\n",
       "  1781.81,312.204 1925.81,312.204 \n",
       "  \"/>\n",
       "<g clip-path=\"url(#clip2601)\">\n",
       "<image width=\"88\" height=\"43\" xlink:href=\"data:image/png;base64,\n",
       "iVBORw0KGgoAAAANSUhEUgAAAFgAAAArCAYAAAD8I09bAAAEI0lEQVRoge1b63GjMBBebq4AkRLk\n",
       "DmSXoHQAKUHpQJMSSAeYErArUChB4wqwS9DQwd6PnBiMeUjYiQfjnfkmGMRaXlbfPlACRISn/Jz8\n",
       "ufcE5ibH4xHjOMYwDDEIAgzDENfrNcZxjF9fX5feiohPOEJKiYQQFEJgnueolMI0TTGKIgQABADk\n",
       "nGNZlmjvufuk5wIhBDLG0BiDXdfzPK+NDACotcangR2hlEJCSK9xLZIkqQ1MKX0a2BWWAoY82IIQ\n",
       "UhtZKYXPIOcgh8Oh/ptl2eDYzWZTHxdF8cwiXIRS2nk8NraqKvj7Y7N6IMnzHLIsA0opxHEcDI3V\n",
       "WtfHjDEIEJ+Fxi0lDEOsqgoAvo096sHH4xH3+z0YYzqvv7y8QBRFsFqtBp9sW+cYl1n5+PiAMAyd\n",
       "dd9TdrtdbVzOOazX62A0gqZpepbfdYFzPhhZh9KZMdh8cg6glNbztsWGlwJjDGqtOw3RrF5cUZYl\n",
       "to0dRREqpSbpuyea1VzTKbwVKaXqnLBpGCnlZIPYyaVpOiujWthVTghBpdTZb/BWJqVESumFJxNC\n",
       "JhtHCFFXPi5ol6W3QhRF3r/BzoVS2rnqvNO0oihqAmeMoU3Cq6qC7XaL7+/v3gFJaw1RFDmP55yD\n",
       "lBJsQLmFEEKAc+51z263w7e3N2CMQVEU3cHY94kBAOZ5jl2exBjz9gBjTF1W3nupT/FcIUTnvI0x\n",
       "aIzxU2r5t7kUmrU3TIj6Vue9DeYDy7lJkvTOWwiBUko/xbYf2j4HV/CYlHKS59/buHYV94FSinme\n",
       "+ylnjF0YsCzLi2Ax1nFq67wmA/lt4xJCRlepTQC01n5fAD2pFOf8zMBDS6dL5xz4t5mKUUo7QQjB\n",
       "JmUieqRp9ql0pSKWRy1cU7a58K9LNduGd8M9SZJBwzXLRFevnAv/tgO5C2z7wPlLOOeDAaxd8rr0\n",
       "J+bEv1PhPnCklLX5bBNj/YS58O+PG3iIf5sQQpwZuC8JR5wP//6Kgcf4t/0gmugbOxf+vRZO7+Rs\n",
       "/2FM/vcnzs5tt1u8RufsxcnNPVqJ7f5EX5cMFsC/iA4U4cq/TYz1J5bCv4gOFFEUBRBCvN65CSHO\n",
       "PidJcqGzTSUPK2NPYCz/7cJYf2IJ+a+zB2utvYPRarUK2vc03yIfDodlBDiAYQ+2njjlBWRff8Ke\n",
       "9+m4zRmDHjyFf628vr4G7W1Eu90OLf/OZa/DtTJq4GuWcjvYZVm2nPzXypB7E0K8erttdPUnwOFt\n",
       "wCOh94Ll32t31rT7E7Ag/kUc4OD9fg8A3+XvNSukTROU0sXwLwD0e7B9DXKLp9jcBTTUYXtEXJww\n",
       "xpz918wt9og1+xNL4l9E/N4f/Pn5iafTCU6nExRFceHlURQBpRQ2m83oBuQ+sftmjTHLooi+SN+F\n",
       "KXu3LJIk8d7m+gj4B+W0nm0BT+SEAAAAAElFTkSuQmCC\n",
       "\" transform=\"translate(1950, 291)\"/>\n",
       "</g>\n",
       "<polyline clip-path=\"url(#clip2601)\" style=\"stroke:#c271d2; stroke-width:4; stroke-opacity:1; fill:none\" points=\"\n",
       "  1781.81,372.684 1925.81,372.684 \n",
       "  \"/>\n",
       "<g clip-path=\"url(#clip2601)\">\n",
       "<image width=\"89\" height=\"43\" xlink:href=\"data:image/png;base64,\n",
       "iVBORw0KGgoAAAANSUhEUgAAAFkAAAArCAYAAAAT4SRlAAAEDklEQVRoge1a7XGjMBBdbq4AOSWI\n",
       "DsAlkFSgUILSAXYJOBUAJQAVYEpQqABcAqaDvT9RhuNTwudLbPxm3o+AvJBl92m1koGI8MC/gW3b\n",
       "SCmFJEmM9vXf3/VC94bdbodFUQze+/Wf3+UucTwe8f39ffT+w8kX4nw+o+u6k2MeTr4QnHNwXRco\n",
       "paNjHpp8AZIkwaIooKoqwzTN0Qri4eSFqKoKOeeQ5/ns2IdcLITrurDf78G2bWNu7MPJC3A4HBAA\n",
       "YLfbzToY4CEX2vj4+EDf90EIofybWSdXVYVpmkJd14P3n56egDEGpmkqfVVpM4oipbH7/R42m42y\n",
       "7WvDdV2Iokjr/wVEnGQQBAgAk3QcB+fstOn7/qxNSSGElu1rknOOjLHB96GUIgCgZVm9+1oPqesa\n",
       "hRCDzijLUtsZZVli1+GMMcyybJG9azLLMiSEYF3X13WyfJg01naO53mLncIYQwDAIAh+lGPbwUUI\n",
       "wSzLRt/vnzrZ8zyklPYimhCy2EGcc6SUKv8+jmNludHhmBQwxmaDaMrJ2tVFnufgOA7Ytm1YlvXV\n",
       "eWqaBsIwxLe3N+1JSggBjDHl8Y7jgOd50DSN7qNGQQgBx3F618MwxKIoeu1LLehGHQBgHMc4FFFD\n",
       "X1ElFQFgMhW/k47jXJQdQRCg8ek4JRyPR3x5eYGyLL9KmM1mg+2IEkIorYK6NhHxx5RpbVRVhSoZ\n",
       "s91uAQDAsixol6eUUr1I9jyvp72e5ynp2pTNJRnw0wgT2ay1rJZ63Abn/K+/0zSF8/msnB5DNu8N\n",
       "Wk4uiqLnENM0je411dXcmM1bw2xQqaaDLNmGFgmydpZULefk77471ZewrmssyxKFEMg57012Qogv\n",
       "Xykb9X1/0nmyTpRUqRZuWY+7jh1jHMfqRh3HmZzUustjlX6GZVkXrRRvheoDZ5a9st5tc67/oBrx\n",
       "t06lQVN63GY3hTjno+NvWY+v4uQ5Pe5+jDbHxt6yHutSqYRTrWU/+xl/XQvDcLC8WUN9/AWlcNdo\n",
       "Q3b7GWPdNViJHiMqyIWqHrdJCJnc3ViTHiMqyEWe50AI0drT6i61fd/v2ezKyl1j7ivM1cdDLMuy\n",
       "NwG2t23WUh8rR7IQQnuCmutn3EO/QgsqEblkU3OsnyGvj21I3iMnI3mJHks8Pz8b7ZOOTdNAkiQo\n",
       "9fgnnaW4NmadfEladyfAKIrWVR9LTIU5IQR931+c1kP9DGjtEa6FozekHl96gmeoJbgmPUac0OQ0\n",
       "TQEAtDZFh9CVDErpqvQYAMYjmVKqdeBkiu3TRlOduXtl70Jd1yiPTcHC8q3Ldj9jbXqMiGAgIhwO\n",
       "BzydTnA6nQaP5zPGgFIK2+0WXl9fF6W6PJ9R1/X65GKsAhii7vK6Td/3tY/Y3gv/AM/cO5p4Eemw\n",
       "AAAAAElFTkSuQmCC\n",
       "\" transform=\"translate(1950, 351)\"/>\n",
       "</g>\n",
       "</svg>\n"
      ]
     },
     "execution_count": 38,
     "metadata": {},
     "output_type": "execute_result"
    }
   ],
   "source": [
    "plot(N,errtrap,xscale=:log10,yscale=:log10,seriestype=:scatter,label=\"Trapezoidal\")\n",
    "plot!(N,errsimp,xscale=:log10,yscale=:log10,seriestype=:scatter,label=\"Simpsons\", xlabel=\"N\", ylabel=\"|I-Iex|\")\n",
    "plot!(N,100*N.^(-2),xscale=:log10,yscale=:log10,label=\"\\$N^{-2}\\$\")\n",
    "plot!(N,10000*N.^(-4),xscale=:log10,yscale=:log10,label=\"\\$N^{-4}\\$\")"
   ]
  },
  {
   "cell_type": "code",
   "execution_count": null,
   "metadata": {},
   "outputs": [],
   "source": []
  }
 ],
 "metadata": {
  "kernelspec": {
   "display_name": "Julia 1.1.0",
   "language": "julia",
   "name": "julia-1.1"
  },
  "language_info": {
   "file_extension": ".jl",
   "mimetype": "application/julia",
   "name": "julia",
   "version": "1.1.0"
  }
 },
 "nbformat": 4,
 "nbformat_minor": 2
}
