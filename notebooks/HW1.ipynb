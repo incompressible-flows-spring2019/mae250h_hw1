{
 "cells": [
  {
   "cell_type": "markdown",
   "metadata": {},
   "source": [
    "### A starting notebook for homework 1"
   ]
  },
  {
   "cell_type": "markdown",
   "metadata": {},
   "source": [
    "The next line activates the environment in which we are working on HW1. It is assumed that you already generated this environment, per the instructions in the document *UsingJulia.pdf*"
   ]
  },
  {
   "cell_type": "code",
   "execution_count": 1,
   "metadata": {},
   "outputs": [
    {
     "data": {
      "text/plain": [
       "\"/Users/jeff/Dropbox/MAE250H/julia/HW1/Project.toml\""
      ]
     },
     "execution_count": 1,
     "metadata": {},
     "output_type": "execute_result"
    }
   ],
   "source": [
    "using Pkg\n",
    "Pkg.activate(\"/Users/jeff/Dropbox/MAE250H/julia/HW1\")"
   ]
  },
  {
   "cell_type": "markdown",
   "metadata": {},
   "source": [
    "These load in some packages. The first package allows us to make immediate use of the code after we have changed it. This avoids the need to restart the Julia session every time we change code. The second line loads our HW1 module."
   ]
  },
  {
   "cell_type": "code",
   "execution_count": 2,
   "metadata": {},
   "outputs": [
    {
     "name": "stderr",
     "output_type": "stream",
     "text": [
      "┌ Info: Recompiling stale cache file /Users/jeff/.julia/compiled/v1.1/HW1/iYicj.ji for HW1 [0995316c-50e7-11e9-3901-159a1d42d6c7]\n",
      "└ @ Base loading.jl:1184\n"
     ]
    }
   ],
   "source": [
    "using Revise\n",
    "using HW1"
   ]
  },
  {
   "cell_type": "markdown",
   "metadata": {},
   "source": [
    "Let's read the documentation that we wrote for scale_it"
   ]
  },
  {
   "cell_type": "code",
   "execution_count": 20,
   "metadata": {},
   "outputs": [
    {
     "data": {
      "text/latex": [
       "\\begin{verbatim}\n",
       "scale_it(f::Function,x::Real,c::Real) -> Real\n",
       "\\end{verbatim}\n",
       "Takes as input a function \\texttt{f} and two real-valued arguments \\texttt{x} and \\texttt{c} and returns value \\texttt{c*f(x)}.\n",
       "\n",
       "For example,\n",
       "\n",
       "\\begin{verbatim}\n",
       "julia> g(x) = x^2\n",
       "\n",
       "julia> HW1.scale_it(g,1,2)\n",
       "2\n",
       "\\end{verbatim}\n"
      ],
      "text/markdown": [
       "```\n",
       "scale_it(f::Function,x::Real,c::Real) -> Real\n",
       "```\n",
       "\n",
       "Takes as input a function `f` and two real-valued arguments `x` and `c` and returns value `c*f(x)`.\n",
       "\n",
       "For example,\n",
       "\n",
       "```\n",
       "julia> g(x) = x^2\n",
       "\n",
       "julia> HW1.scale_it(g,1,2)\n",
       "2\n",
       "```\n"
      ],
      "text/plain": [
       "\u001b[36m  scale_it(f::Function,x::Real,c::Real) -> Real\u001b[39m\n",
       "\n",
       "  Takes as input a function \u001b[36mf\u001b[39m and two real-valued arguments \u001b[36mx\u001b[39m and \u001b[36mc\u001b[39m and\n",
       "  returns value \u001b[36mc*f(x)\u001b[39m.\n",
       "\n",
       "  For example,\n",
       "\n",
       "\u001b[36m  julia> g(x) = x^2\u001b[39m\n",
       "\u001b[36m  \u001b[39m\n",
       "\u001b[36m  julia> HW1.scale_it(g,1,2)\u001b[39m\n",
       "\u001b[36m  2\u001b[39m"
      ]
     },
     "execution_count": 20,
     "metadata": {},
     "output_type": "execute_result"
    }
   ],
   "source": [
    "?HW1.scale_it"
   ]
  },
  {
   "cell_type": "markdown",
   "metadata": {},
   "source": [
    "Okay, so let's try it! First we define a function for input. We can call it anything we want:"
   ]
  },
  {
   "cell_type": "code",
   "execution_count": 6,
   "metadata": {},
   "outputs": [
    {
     "data": {
      "text/plain": [
       "fcn (generic function with 1 method)"
      ]
     },
     "execution_count": 6,
     "metadata": {},
     "output_type": "execute_result"
    }
   ],
   "source": [
    "fcn(x::Real) = tan(x)"
   ]
  },
  {
   "cell_type": "markdown",
   "metadata": {},
   "source": [
    "Now let's try it out. Here, we will double the result of the tangent:"
   ]
  },
  {
   "cell_type": "code",
   "execution_count": 9,
   "metadata": {},
   "outputs": [
    {
     "data": {
      "text/plain": [
       "1.9999999999999998"
      ]
     },
     "execution_count": 9,
     "metadata": {},
     "output_type": "execute_result"
    }
   ],
   "source": [
    "HW1.scale_it(fcn,pi/4,2)"
   ]
  },
  {
   "cell_type": "code",
   "execution_count": 17,
   "metadata": {},
   "outputs": [
    {
     "data": {
      "text/plain": [
       "2"
      ]
     },
     "execution_count": 17,
     "metadata": {},
     "output_type": "execute_result"
    }
   ],
   "source": [
    "g(x) = x^2\n",
    "HW1.scale_it(g,1,2)"
   ]
  },
  {
   "cell_type": "markdown",
   "metadata": {},
   "source": [
    "#### Plotting"
   ]
  },
  {
   "cell_type": "markdown",
   "metadata": {},
   "source": [
    "We will make use of the Plots package. It is presumed that you already added this package."
   ]
  },
  {
   "cell_type": "code",
   "execution_count": 8,
   "metadata": {},
   "outputs": [],
   "source": [
    "using Plots"
   ]
  },
  {
   "cell_type": "markdown",
   "metadata": {},
   "source": [
    "Let's try evaluating our scale_it function on a vector of data:"
   ]
  },
  {
   "cell_type": "code",
   "execution_count": 14,
   "metadata": {},
   "outputs": [
    {
     "data": {
      "text/plain": [
       "0.0:0.007853981633974483:0.7853981633974483"
      ]
     },
     "execution_count": 14,
     "metadata": {},
     "output_type": "execute_result"
    }
   ],
   "source": [
    "x = range(0,pi/4,length=101)"
   ]
  },
  {
   "cell_type": "markdown",
   "metadata": {},
   "source": [
    "We can't just pass `x` in, because it only accepts scalar arguments. But in Julia, we can use the . notation to get a vectorized form of the function:"
   ]
  },
  {
   "cell_type": "code",
   "execution_count": 15,
   "metadata": {},
   "outputs": [
    {
     "data": {
      "text/plain": [
       "101-element Array{Float64,1}:\n",
       " 0.0                \n",
       " 0.01570828625796718\n",
       " 0.03141851064732983\n",
       " 0.0471326122561293 \n",
       " 0.0628525320867023 \n",
       " 0.07858021401533928\n",
       " 0.09431760575496094\n",
       " 0.11006665982182706\n",
       " 0.12582933450729952\n",
       " 0.14160759485569036\n",
       " 0.15740341364923688\n",
       " 0.17321877240125833\n",
       " 0.18905566235856408\n",
       " ⋮                  \n",
       " 1.6811756375362736 \n",
       " 1.7081613709269332 \n",
       " 1.7355115938216823 \n",
       " 1.7632371847263781 \n",
       " 1.7913494167409458 \n",
       " 1.819859976355475  \n",
       " 1.848780983316414  \n",
       " 1.8781250116349844 \n",
       " 1.9079051118155266 \n",
       " 1.9381348343875864 \n",
       " 1.9688282548321938 \n",
       " 1.9999999999999998 "
      ]
     },
     "execution_count": 15,
     "metadata": {},
     "output_type": "execute_result"
    }
   ],
   "source": [
    "HW1.scale_it.(fcn,x,2)"
   ]
  },
  {
   "cell_type": "markdown",
   "metadata": {},
   "source": [
    "Let's plot the result:"
   ]
  },
  {
   "cell_type": "code",
   "execution_count": 16,
   "metadata": {},
   "outputs": [
    {
     "data": {
      "image/svg+xml": [
       "<?xml version=\"1.0\" encoding=\"utf-8\"?>\n",
       "<svg xmlns=\"http://www.w3.org/2000/svg\" xmlns:xlink=\"http://www.w3.org/1999/xlink\" width=\"600\" height=\"400\" viewBox=\"0 0 2400 1600\">\n",
       "<defs>\n",
       "  <clipPath id=\"clip7100\">\n",
       "    <rect x=\"0\" y=\"0\" width=\"2000\" height=\"2000\"/>\n",
       "  </clipPath>\n",
       "</defs>\n",
       "<defs>\n",
       "  <clipPath id=\"clip7101\">\n",
       "    <rect x=\"0\" y=\"0\" width=\"2400\" height=\"1600\"/>\n",
       "  </clipPath>\n",
       "</defs>\n",
       "<polygon clip-path=\"url(#clip7101)\" points=\"\n",
       "0,1600 2400,1600 2400,0 0,0 \n",
       "  \" fill=\"#ffffff\" fill-rule=\"evenodd\" fill-opacity=\"1\"/>\n",
       "<defs>\n",
       "  <clipPath id=\"clip7102\">\n",
       "    <rect x=\"480\" y=\"0\" width=\"1681\" height=\"1600\"/>\n",
       "  </clipPath>\n",
       "</defs>\n",
       "<polygon clip-path=\"url(#clip7101)\" points=\"\n",
       "161.394,1503.47 2321.26,1503.47 2321.26,47.2441 161.394,47.2441 \n",
       "  \" fill=\"#ffffff\" fill-rule=\"evenodd\" fill-opacity=\"1\"/>\n",
       "<defs>\n",
       "  <clipPath id=\"clip7103\">\n",
       "    <rect x=\"161\" y=\"47\" width=\"2161\" height=\"1457\"/>\n",
       "  </clipPath>\n",
       "</defs>\n",
       "<polyline clip-path=\"url(#clip7103)\" style=\"stroke:#000000; stroke-width:2; stroke-opacity:0.1; fill:none\" points=\"\n",
       "  222.522,1503.47 222.522,47.2441 \n",
       "  \"/>\n",
       "<polyline clip-path=\"url(#clip7103)\" style=\"stroke:#000000; stroke-width:2; stroke-opacity:0.1; fill:none\" points=\"\n",
       "  741.395,1503.47 741.395,47.2441 \n",
       "  \"/>\n",
       "<polyline clip-path=\"url(#clip7103)\" style=\"stroke:#000000; stroke-width:2; stroke-opacity:0.1; fill:none\" points=\"\n",
       "  1260.27,1503.47 1260.27,47.2441 \n",
       "  \"/>\n",
       "<polyline clip-path=\"url(#clip7103)\" style=\"stroke:#000000; stroke-width:2; stroke-opacity:0.1; fill:none\" points=\"\n",
       "  1779.14,1503.47 1779.14,47.2441 \n",
       "  \"/>\n",
       "<polyline clip-path=\"url(#clip7103)\" style=\"stroke:#000000; stroke-width:2; stroke-opacity:0.1; fill:none\" points=\"\n",
       "  2298.01,1503.47 2298.01,47.2441 \n",
       "  \"/>\n",
       "<polyline clip-path=\"url(#clip7103)\" style=\"stroke:#000000; stroke-width:2; stroke-opacity:0.1; fill:none\" points=\"\n",
       "  161.394,1462.26 2321.26,1462.26 \n",
       "  \"/>\n",
       "<polyline clip-path=\"url(#clip7103)\" style=\"stroke:#000000; stroke-width:2; stroke-opacity:0.1; fill:none\" points=\"\n",
       "  161.394,1118.81 2321.26,1118.81 \n",
       "  \"/>\n",
       "<polyline clip-path=\"url(#clip7103)\" style=\"stroke:#000000; stroke-width:2; stroke-opacity:0.1; fill:none\" points=\"\n",
       "  161.394,775.359 2321.26,775.359 \n",
       "  \"/>\n",
       "<polyline clip-path=\"url(#clip7103)\" style=\"stroke:#000000; stroke-width:2; stroke-opacity:0.1; fill:none\" points=\"\n",
       "  161.394,431.909 2321.26,431.909 \n",
       "  \"/>\n",
       "<polyline clip-path=\"url(#clip7103)\" style=\"stroke:#000000; stroke-width:2; stroke-opacity:0.1; fill:none\" points=\"\n",
       "  161.394,88.4582 2321.26,88.4582 \n",
       "  \"/>\n",
       "<polyline clip-path=\"url(#clip7101)\" style=\"stroke:#000000; stroke-width:4; stroke-opacity:1; fill:none\" points=\"\n",
       "  161.394,1503.47 2321.26,1503.47 \n",
       "  \"/>\n",
       "<polyline clip-path=\"url(#clip7101)\" style=\"stroke:#000000; stroke-width:4; stroke-opacity:1; fill:none\" points=\"\n",
       "  161.394,1503.47 161.394,47.2441 \n",
       "  \"/>\n",
       "<polyline clip-path=\"url(#clip7101)\" style=\"stroke:#000000; stroke-width:4; stroke-opacity:1; fill:none\" points=\"\n",
       "  222.522,1503.47 222.522,1481.63 \n",
       "  \"/>\n",
       "<polyline clip-path=\"url(#clip7101)\" style=\"stroke:#000000; stroke-width:4; stroke-opacity:1; fill:none\" points=\"\n",
       "  741.395,1503.47 741.395,1481.63 \n",
       "  \"/>\n",
       "<polyline clip-path=\"url(#clip7101)\" style=\"stroke:#000000; stroke-width:4; stroke-opacity:1; fill:none\" points=\"\n",
       "  1260.27,1503.47 1260.27,1481.63 \n",
       "  \"/>\n",
       "<polyline clip-path=\"url(#clip7101)\" style=\"stroke:#000000; stroke-width:4; stroke-opacity:1; fill:none\" points=\"\n",
       "  1779.14,1503.47 1779.14,1481.63 \n",
       "  \"/>\n",
       "<polyline clip-path=\"url(#clip7101)\" style=\"stroke:#000000; stroke-width:4; stroke-opacity:1; fill:none\" points=\"\n",
       "  2298.01,1503.47 2298.01,1481.63 \n",
       "  \"/>\n",
       "<polyline clip-path=\"url(#clip7101)\" style=\"stroke:#000000; stroke-width:4; stroke-opacity:1; fill:none\" points=\"\n",
       "  161.394,1462.26 193.792,1462.26 \n",
       "  \"/>\n",
       "<polyline clip-path=\"url(#clip7101)\" style=\"stroke:#000000; stroke-width:4; stroke-opacity:1; fill:none\" points=\"\n",
       "  161.394,1118.81 193.792,1118.81 \n",
       "  \"/>\n",
       "<polyline clip-path=\"url(#clip7101)\" style=\"stroke:#000000; stroke-width:4; stroke-opacity:1; fill:none\" points=\"\n",
       "  161.394,775.359 193.792,775.359 \n",
       "  \"/>\n",
       "<polyline clip-path=\"url(#clip7101)\" style=\"stroke:#000000; stroke-width:4; stroke-opacity:1; fill:none\" points=\"\n",
       "  161.394,431.909 193.792,431.909 \n",
       "  \"/>\n",
       "<polyline clip-path=\"url(#clip7101)\" style=\"stroke:#000000; stroke-width:4; stroke-opacity:1; fill:none\" points=\"\n",
       "  161.394,88.4582 193.792,88.4582 \n",
       "  \"/>\n",
       "<g clip-path=\"url(#clip7101)\">\n",
       "<text style=\"fill:#000000; fill-opacity:1; font-family:Arial,Helvetica Neue,Helvetica,sans-serif; font-size:48px; text-anchor:middle;\" transform=\"rotate(0, 222.522, 1557.47)\" x=\"222.522\" y=\"1557.47\">0.0</text>\n",
       "</g>\n",
       "<g clip-path=\"url(#clip7101)\">\n",
       "<text style=\"fill:#000000; fill-opacity:1; font-family:Arial,Helvetica Neue,Helvetica,sans-serif; font-size:48px; text-anchor:middle;\" transform=\"rotate(0, 741.395, 1557.47)\" x=\"741.395\" y=\"1557.47\">0.2</text>\n",
       "</g>\n",
       "<g clip-path=\"url(#clip7101)\">\n",
       "<text style=\"fill:#000000; fill-opacity:1; font-family:Arial,Helvetica Neue,Helvetica,sans-serif; font-size:48px; text-anchor:middle;\" transform=\"rotate(0, 1260.27, 1557.47)\" x=\"1260.27\" y=\"1557.47\">0.4</text>\n",
       "</g>\n",
       "<g clip-path=\"url(#clip7101)\">\n",
       "<text style=\"fill:#000000; fill-opacity:1; font-family:Arial,Helvetica Neue,Helvetica,sans-serif; font-size:48px; text-anchor:middle;\" transform=\"rotate(0, 1779.14, 1557.47)\" x=\"1779.14\" y=\"1557.47\">0.6</text>\n",
       "</g>\n",
       "<g clip-path=\"url(#clip7101)\">\n",
       "<text style=\"fill:#000000; fill-opacity:1; font-family:Arial,Helvetica Neue,Helvetica,sans-serif; font-size:48px; text-anchor:middle;\" transform=\"rotate(0, 2298.01, 1557.47)\" x=\"2298.01\" y=\"1557.47\">0.8</text>\n",
       "</g>\n",
       "<g clip-path=\"url(#clip7101)\">\n",
       "<text style=\"fill:#000000; fill-opacity:1; font-family:Arial,Helvetica Neue,Helvetica,sans-serif; font-size:48px; text-anchor:end;\" transform=\"rotate(0, 137.394, 1479.76)\" x=\"137.394\" y=\"1479.76\">0.0</text>\n",
       "</g>\n",
       "<g clip-path=\"url(#clip7101)\">\n",
       "<text style=\"fill:#000000; fill-opacity:1; font-family:Arial,Helvetica Neue,Helvetica,sans-serif; font-size:48px; text-anchor:end;\" transform=\"rotate(0, 137.394, 1136.31)\" x=\"137.394\" y=\"1136.31\">0.5</text>\n",
       "</g>\n",
       "<g clip-path=\"url(#clip7101)\">\n",
       "<text style=\"fill:#000000; fill-opacity:1; font-family:Arial,Helvetica Neue,Helvetica,sans-serif; font-size:48px; text-anchor:end;\" transform=\"rotate(0, 137.394, 792.859)\" x=\"137.394\" y=\"792.859\">1.0</text>\n",
       "</g>\n",
       "<g clip-path=\"url(#clip7101)\">\n",
       "<text style=\"fill:#000000; fill-opacity:1; font-family:Arial,Helvetica Neue,Helvetica,sans-serif; font-size:48px; text-anchor:end;\" transform=\"rotate(0, 137.394, 449.409)\" x=\"137.394\" y=\"449.409\">1.5</text>\n",
       "</g>\n",
       "<g clip-path=\"url(#clip7101)\">\n",
       "<text style=\"fill:#000000; fill-opacity:1; font-family:Arial,Helvetica Neue,Helvetica,sans-serif; font-size:48px; text-anchor:end;\" transform=\"rotate(0, 137.394, 105.958)\" x=\"137.394\" y=\"105.958\">2.0</text>\n",
       "</g>\n",
       "<polyline clip-path=\"url(#clip7103)\" style=\"stroke:#009af9; stroke-width:4; stroke-opacity:1; fill:none\" points=\"\n",
       "  222.522,1462.26 242.898,1451.47 263.275,1440.68 283.651,1429.89 304.027,1419.09 324.403,1408.28 344.779,1397.47 365.155,1386.66 385.531,1375.83 405.907,1364.99 \n",
       "  426.283,1354.14 446.659,1343.28 467.035,1332.4 487.412,1321.5 507.788,1310.59 528.164,1299.66 548.54,1288.71 568.916,1277.74 589.292,1266.74 609.668,1255.72 \n",
       "  630.044,1244.67 650.42,1233.6 670.796,1222.49 691.172,1211.36 711.549,1200.19 731.925,1188.99 752.301,1177.76 772.677,1166.49 793.053,1155.18 813.429,1143.83 \n",
       "  833.805,1132.44 854.181,1121.01 874.557,1109.53 894.933,1098 915.309,1086.43 935.686,1074.81 956.062,1063.13 976.438,1051.41 996.814,1039.62 1017.19,1027.78 \n",
       "  1037.57,1015.89 1057.94,1003.93 1078.32,991.903 1098.69,979.816 1119.07,967.661 1139.45,955.438 1159.82,943.144 1180.2,930.777 1200.57,918.334 1220.95,905.813 \n",
       "  1241.33,893.213 1261.7,880.53 1282.08,867.763 1302.46,854.909 1322.83,841.965 1343.21,828.929 1363.58,815.798 1383.96,802.57 1404.34,789.242 1424.71,775.81 \n",
       "  1445.09,762.273 1465.46,748.627 1485.84,734.87 1506.22,720.997 1526.59,707.006 1546.97,692.894 1567.34,678.658 1587.72,664.293 1608.1,649.796 1628.47,635.164 \n",
       "  1648.85,620.393 1669.22,605.48 1689.6,590.419 1709.98,575.208 1730.35,559.841 1750.73,544.315 1771.11,528.625 1791.48,512.767 1811.86,496.736 1832.23,480.527 \n",
       "  1852.61,464.135 1872.99,447.554 1893.36,430.781 1913.74,413.808 1934.11,396.63 1954.49,379.242 1974.87,361.637 1995.24,343.81 2015.62,325.752 2035.99,307.459 \n",
       "  2056.37,288.922 2076.75,270.136 2097.12,251.091 2117.5,231.781 2137.88,212.197 2158.25,192.331 2178.63,172.174 2199,151.718 2219.38,130.953 2239.76,109.87 \n",
       "  2260.13,88.4582 \n",
       "  \"/>\n",
       "<polygon clip-path=\"url(#clip7101)\" points=\"\n",
       "1958.43,251.724 2249.26,251.724 2249.26,130.764 1958.43,130.764 \n",
       "  \" fill=\"#ffffff\" fill-rule=\"evenodd\" fill-opacity=\"1\"/>\n",
       "<polyline clip-path=\"url(#clip7101)\" style=\"stroke:#000000; stroke-width:4; stroke-opacity:1; fill:none\" points=\"\n",
       "  1958.43,251.724 2249.26,251.724 2249.26,130.764 1958.43,130.764 1958.43,251.724 \n",
       "  \"/>\n",
       "<polyline clip-path=\"url(#clip7101)\" style=\"stroke:#009af9; stroke-width:4; stroke-opacity:1; fill:none\" points=\"\n",
       "  1982.43,191.244 2126.43,191.244 \n",
       "  \"/>\n",
       "<g clip-path=\"url(#clip7101)\">\n",
       "<text style=\"fill:#000000; fill-opacity:1; font-family:Arial,Helvetica Neue,Helvetica,sans-serif; font-size:48px; text-anchor:start;\" transform=\"rotate(0, 2150.43, 208.744)\" x=\"2150.43\" y=\"208.744\">y1</text>\n",
       "</g>\n",
       "</svg>\n"
      ]
     },
     "execution_count": 16,
     "metadata": {},
     "output_type": "execute_result"
    }
   ],
   "source": [
    "plot(x,HW1.scale_it.(fcn,x,2))"
   ]
  },
  {
   "cell_type": "markdown",
   "metadata": {},
   "source": [
    "#### Testing the circulant triadiagonal matrix solver"
   ]
  },
  {
   "cell_type": "code",
   "execution_count": 25,
   "metadata": {},
   "outputs": [
    {
     "data": {
      "text/latex": [
       "\\begin{verbatim}\n",
       "trisolve(a,b,c,f::Vector{Real},sys_type) -> Vector{Real}\n",
       "\\end{verbatim}\n",
       "Solve a tridiagonal system, in which the matrix consists of elements \\texttt{a}, \\texttt{b}, and \\texttt{c}, on the subdiagonal, diagonal, and superdiagonal, respectively, and the right-hand side of the system is given by vector \\texttt{f}. The \\texttt{sys\\_type} of system can be either \\texttt{\"circulant\"} or \\texttt{\"regular\"}. The solution is returned as a vector the same size as \\texttt{f}.\n",
       "\n",
       "For \\texttt{\"circulant\"} systems, \\texttt{a}, \\texttt{b} and \\texttt{c} can only be scalars, since the diagonals must each be uniform. For \\texttt{regular} systems, these can each be vectors, but \\texttt{b} must be the same length as \\texttt{f} and \\texttt{a} and \\texttt{c} should be one element shorter.\n",
       "\n"
      ],
      "text/markdown": [
       "```\n",
       "trisolve(a,b,c,f::Vector{Real},sys_type) -> Vector{Real}\n",
       "```\n",
       "\n",
       "Solve a tridiagonal system, in which the matrix consists of elements `a`, `b`, and `c`, on the subdiagonal, diagonal, and superdiagonal, respectively, and the right-hand side of the system is given by vector `f`. The `sys_type` of system can be either `\"circulant\"` or `\"regular\"`. The solution is returned as a vector the same size as `f`.\n",
       "\n",
       "For `\"circulant\"` systems, `a`, `b` and `c` can only be scalars, since the diagonals must each be uniform. For `regular` systems, these can each be vectors, but `b` must be the same length as `f` and `a` and `c` should be one element shorter.\n"
      ],
      "text/plain": [
       "\u001b[36m  trisolve(a,b,c,f::Vector{Real},sys_type) -> Vector{Real}\u001b[39m\n",
       "\n",
       "  Solve a tridiagonal system, in which the matrix consists of elements \u001b[36ma\u001b[39m, \u001b[36mb\u001b[39m,\n",
       "  and \u001b[36mc\u001b[39m, on the subdiagonal, diagonal, and superdiagonal, respectively, and\n",
       "  the right-hand side of the system is given by vector \u001b[36mf\u001b[39m. The \u001b[36msys_type\u001b[39m of\n",
       "  system can be either \u001b[36m\"circulant\"\u001b[39m or \u001b[36m\"regular\"\u001b[39m. The solution is returned as a\n",
       "  vector the same size as \u001b[36mf\u001b[39m.\n",
       "\n",
       "  For \u001b[36m\"circulant\"\u001b[39m systems, \u001b[36ma\u001b[39m, \u001b[36mb\u001b[39m and \u001b[36mc\u001b[39m can only be scalars, since the diagonals\n",
       "  must each be uniform. For \u001b[36mregular\u001b[39m systems, these can each be vectors, but \u001b[36mb\u001b[39m\n",
       "  must be the same length as \u001b[36mf\u001b[39m and \u001b[36ma\u001b[39m and \u001b[36mc\u001b[39m should be one element shorter."
      ]
     },
     "execution_count": 25,
     "metadata": {},
     "output_type": "execute_result"
    }
   ],
   "source": [
    "?HW1.trisolve"
   ]
  },
  {
   "cell_type": "markdown",
   "metadata": {},
   "source": [
    "Okay, let's try it! First on a circulant type system:"
   ]
  },
  {
   "cell_type": "code",
   "execution_count": 125,
   "metadata": {},
   "outputs": [
    {
     "data": {
      "text/plain": [
       "4-element Array{Float64,1}:\n",
       " 0.0               \n",
       " 0.7071067811865475\n",
       " 1.0               \n",
       " 0.7071067811865476"
      ]
     },
     "execution_count": 125,
     "metadata": {},
     "output_type": "execute_result"
    }
   ],
   "source": [
    "a = 1; b = 4; c = 1\n",
    "M = 4 \n",
    "rhs = sin.(π*(0:M-1)/M)"
   ]
  },
  {
   "cell_type": "code",
   "execution_count": 127,
   "metadata": {},
   "outputs": [
    {
     "data": {
      "text/plain": [
       "4-element Array{Float64,1}:\n",
       " -0.07618446353109125\n",
       "  0.15236892706218247\n",
       "  0.17381553646890874\n",
       "  0.15236892706218247"
      ]
     },
     "execution_count": 127,
     "metadata": {},
     "output_type": "execute_result"
    }
   ],
   "source": [
    "HW1.trisolve(a,b,c,rhs,\"circulant\")"
   ]
  },
  {
   "cell_type": "markdown",
   "metadata": {},
   "source": [
    "Is that the right answer? Let's compare it to what Julia gives using the built-in \\ solver"
   ]
  },
  {
   "cell_type": "code",
   "execution_count": 128,
   "metadata": {},
   "outputs": [
    {
     "data": {
      "text/plain": [
       "4-element Array{Float64,1}:\n",
       " -0.07618446353109125\n",
       "  0.1523689270621825 \n",
       "  0.17381553646890877\n",
       "  0.1523689270621825 "
      ]
     },
     "execution_count": 128,
     "metadata": {},
     "output_type": "execute_result"
    }
   ],
   "source": [
    "A = [b c 0 a; a b c 0; 0 a b c; c 0 a b]\n",
    "A\\rhs"
   ]
  },
  {
   "cell_type": "markdown",
   "metadata": {},
   "source": [
    "#### Profile the code"
   ]
  },
  {
   "cell_type": "markdown",
   "metadata": {},
   "source": [
    "Let's time the code to see how long it takes. We will use a bigger system for this:"
   ]
  },
  {
   "cell_type": "code",
   "execution_count": 130,
   "metadata": {},
   "outputs": [],
   "source": [
    "N = 10000\n",
    "a = rand(); b = rand(); c = rand()\n",
    "rhs = rand(N);"
   ]
  },
  {
   "cell_type": "markdown",
   "metadata": {},
   "source": [
    "We use `@time` for timing this:"
   ]
  },
  {
   "cell_type": "code",
   "execution_count": 131,
   "metadata": {},
   "outputs": [
    {
     "name": "stdout",
     "output_type": "stream",
     "text": [
      "  0.001067 seconds (122 allocations: 793.531 KiB)\n"
     ]
    }
   ],
   "source": [
    "@time HW1.trisolve(a,b,c,rhs,\"circulant\");"
   ]
  },
  {
   "cell_type": "markdown",
   "metadata": {},
   "source": [
    "For deeper code profiling (to see where the code spends most of its time), we can use the Profile package"
   ]
  },
  {
   "cell_type": "code",
   "execution_count": 77,
   "metadata": {},
   "outputs": [],
   "source": [
    "using Profile"
   ]
  },
  {
   "cell_type": "markdown",
   "metadata": {},
   "source": [
    "Clear the profile buffer"
   ]
  },
  {
   "cell_type": "code",
   "execution_count": 132,
   "metadata": {},
   "outputs": [],
   "source": [
    "Profile.clear()"
   ]
  },
  {
   "cell_type": "markdown",
   "metadata": {},
   "source": [
    "Run the profiler. To get more statistics, run the code lots of times."
   ]
  },
  {
   "cell_type": "code",
   "execution_count": 133,
   "metadata": {},
   "outputs": [],
   "source": [
    "@profile (for i = 1:1000; HW1.trisolve(a,b,c,rhs,\"circulant\"); end) "
   ]
  },
  {
   "cell_type": "markdown",
   "metadata": {},
   "source": [
    "Now look at the profiler results. The first number indicates how many times the code was on a particular line of code for each sample. Larger numbers mean more time spent on that particular line. The code's nesting is indicated by indentation. Here, we look down for places in the actual trisolve function it spent its time. It spends most of its time on generating the eigenvalues."
   ]
  },
  {
   "cell_type": "code",
   "execution_count": 134,
   "metadata": {},
   "outputs": [
    {
     "name": "stdout",
     "output_type": "stream",
     "text": [
      "1   ./complex.jl:361; /(::Complex{Float64}, ::Complex{Fl...\n",
      " 1 ./float.jl:522; abs\n",
      "1   ./complex.jl:374; /(::Complex{Float64}, ::Complex{Fl...\n",
      "969 ./task.jl:259; (::getfield(IJulia, Symbol(\"##15#1...\n",
      " 969 ...9ajf8/src/eventloop.jl:8; eventloop(::ZMQ.Socket)\n",
      "  969 ./essentials.jl:741; invokelatest\n",
      "   969 ./essentials.jl:742; #invokelatest#1\n",
      "    968 ...c/execute_request.jl:67; execute_request(::ZMQ.Socket, ::...\n",
      "     968 ...c/SoftGlobalScope.jl:218; softscope_include_string(::Modu...\n",
      "      968 ./boot.jl:328; eval\n",
      "       968 ./In[133]:1; top-level scope\n",
      "        968 ...file/src/Profile.jl:25; macro expansion\n",
      "         968 ./In[133]:1; macro expansion\n",
      "          15  ./twiceprecision.jl:84; trisolve(::Float64, ::Float64...\n",
      "          11  ...lia/HW1/src/HW1.jl:46; trisolve(::Float64, ::Float64...\n",
      "           11 ./broadcast.jl:753; materialize\n",
      "            11 ./broadcast.jl:773; copy\n",
      "             11 ./broadcast.jl:797; copyto!\n",
      "              1 ./broadcast.jl:853; copyto!\n",
      "               1 ./boot.jl:402; Type\n",
      "              9 ./broadcast.jl:857; copyto!\n",
      "               3 ./simdloop.jl:0; macro expansion\n",
      "               6 ./simdloop.jl:73; macro expansion\n",
      "                3 ./array.jl:767; macro expansion\n",
      "                3 ./broadcast.jl:858; macro expansion\n",
      "                 3 ./broadcast.jl:511; getindex\n",
      "                  3 ./broadcast.jl:551; _broadcast_getindex\n",
      "                   3 ./broadcast.jl:578; _broadcast_getindex_evalf\n",
      "                    3 ./float.jl:482; ==\n",
      "                     3 ./float.jl:448; ==\n",
      "              1 ./broadcast.jl:868; copyto!\n",
      "               1 ./bitarray.jl:329; dumpbitcache\n",
      "                1 ./bitarray.jl:304; copy_to_bitarray_chunks!(:...\n",
      "                 1 ./int.jl:320; |\n",
      "          30  ...lia/HW1/src/HW1.jl:55; trisolve(::Float64, ::Float64...\n",
      "           30 ./broadcast.jl:753; materialize\n",
      "            30 ./broadcast.jl:773; copy\n",
      "             6  ./broadcast.jl:797; copyto!\n",
      "              6 ./broadcast.jl:842; copyto!\n",
      "               1 ./simdloop.jl:71; macro expansion\n",
      "               3 ./simdloop.jl:73; macro expansion\n",
      "                1 ./array.jl:767; macro expansion\n",
      "                2 ./broadcast.jl:843; macro expansion\n",
      "                 2 ./broadcast.jl:511; getindex\n",
      "                  2 ./broadcast.jl:550; _broadcast_getindex\n",
      "                   2 ./broadcast.jl:575; _getindex\n",
      "                    2 ./broadcast.jl:544; _broadcast_getindex\n",
      "                     2 ./array.jl:729; getindex\n",
      "               2 ./simdloop.jl:74; macro expansion\n",
      "                2 ./int.jl:53; +\n",
      "             24 ./broadcast.jl:196; similar\n",
      "              24 ./abstractarray.jl:617; similar\n",
      "               24 ./abstractarray.jl:618; similar\n",
      "                24 ./boot.jl:419; Type\n",
      "                 24 ./boot.jl:411; Type\n",
      "                  24 ./boot.jl:402; Type\n",
      "                   3 ...7sLQ/src/fft.jl:255; destroy_plan(::FFTW.cFFT...\n",
      "          473 ...lia/HW1/src/HW1.jl:61; trisolve(::Float64, ::Float64...\n",
      "           6   ./arraymath.jl:52; *\n",
      "            5 ./broadcast.jl:707; broadcast(::typeof(*), ::Flo...\n",
      "             1 ./boot.jl:402; materialize\n",
      "             4 ./broadcast.jl:753; materialize\n",
      "              4 ./broadcast.jl:773; copy\n",
      "               4 ./broadcast.jl:797; copyto!\n",
      "                4 ./broadcast.jl:842; copyto!\n",
      "                 1 ./simdloop.jl:71; macro expansion\n",
      "                 3 ./simdloop.jl:73; macro expansion\n",
      "                  3 ./broadcast.jl:843; macro expansion\n",
      "                   3 ./broadcast.jl:511; getindex\n",
      "                    3 ./broadcast.jl:551; _broadcast_getindex\n",
      "                     3 ./broadcast.jl:578; _broadcast_getindex_evalf\n",
      "                      3 ./float.jl:399; *\n",
      "            1 ./broadcast.jl:707; broadcast\n",
      "             1 ./broadcast.jl:1167; broadcasted\n",
      "              1 ./broadcast.jl:990; broadcasted\n",
      "               1 ./none:0; #range\n",
      "                1 ./range.jl:87; #range#31\n",
      "                 1 ./twiceprecision.jl:428; _range(::Float64, ::Float...\n",
      "           1   ./boot.jl:402; materialize\n",
      "           410 ./broadcast.jl:753; materialize\n",
      "            410 ./broadcast.jl:773; copy\n",
      "             367 ./broadcast.jl:797; copyto!\n",
      "              367 ./broadcast.jl:842; copyto!\n",
      "               9   ./simdloop.jl:71; macro expansion\n",
      "                9 ./int.jl:49; <\n",
      "               5   ./simdloop.jl:72; macro expansion\n",
      "                5 ./simdloop.jl:50; simd_index\n",
      "                 5 ./int.jl:53; +\n",
      "               353 ./simdloop.jl:73; macro expansion\n",
      "                353 ./broadcast.jl:843; macro expansion\n",
      "                 8   ./array.jl:767; setindex!\n",
      "                 345 ./broadcast.jl:511; getindex\n",
      "                  24  ./broadcast.jl:550; _broadcast_getindex\n",
      "                   3  ./broadcast.jl:574; _getindex\n",
      "                    3 ./broadcast.jl:551; _broadcast_getindex\n",
      "                     3 ./broadcast.jl:578; _broadcast_getindex_evalf\n",
      "                      3 ./float.jl:395; +\n",
      "                   21 ./broadcast.jl:575; _getindex\n",
      "                    21 ./broadcast.jl:544; _broadcast_getindex\n",
      "                     21 ./range.jl:639; getindex\n",
      "                      11 ./float.jl:395; unsafe_getindex\n",
      "                      3  ...eprecision.jl:449; unsafe_getindex\n",
      "                       3 ./float.jl:399; *\n",
      "                      7  ...eprecision.jl:450; unsafe_getindex\n",
      "                       7 ...ceprecision.jl:85; add12\n",
      "                        7 ./float.jl:397; canonicalize2\n",
      "                  267 ./broadcast.jl:551; _broadcast_getindex\n",
      "                   267 ./broadcast.jl:578; _broadcast_getindex_evalf\n",
      "                    1  ./special/trig.jl:100; cos(::Float64)\n",
      "                     1 ./float.jl:522; abs\n",
      "                    2  ./special/trig.jl:101; cos(::Float64)\n",
      "                     2 ./float.jl:452; <\n",
      "                    2  ./special/trig.jl:103; cos(::Float64)\n",
      "                    8  ./special/trig.jl:105; cos(::Float64)\n",
      "                     4 ./float.jl:395; cos_kernel\n",
      "                     1 ./float.jl:399; cos_kernel\n",
      "                     2 ./special/trig.jl:148; cos_kernel\n",
      "                      1 ./float.jl:404; muladd\n",
      "                      1 ./operators.jl:502; *\n",
      "                       1 ./float.jl:399; *\n",
      "                     1 ./special/trig.jl:151; cos_kernel\n",
      "                      1 ./float.jl:397; -\n",
      "                    11 ./special/trig.jl:108; cos(::Float64)\n",
      "                     4 ./float.jl:557; isinf\n",
      "                      4 ./float.jl:547; isfinite\n",
      "                       4 ./float.jl:482; ==\n",
      "                        4 ./float.jl:448; ==\n",
      "                    11 ./special/trig.jl:111; cos(::Float64)\n",
      "                     1 ...al/rem_pio2.jl:0; rem_pio2_kernel\n",
      "                     3 ...al/rem_pio2.jl:219; rem_pio2_kernel\n",
      "                      3 ./math.jl:1052; poshighword\n",
      "                       3 ./essentials.jl:381; reinterpret\n",
      "                     1 ...al/rem_pio2.jl:221; rem_pio2_kernel\n",
      "                     2 ...al/rem_pio2.jl:231; rem_pio2_kernel\n",
      "                      2 ...al/rem_pio2.jl:52; cody_waite_2c_pio2\n",
      "                       2 ./float.jl:404; muladd\n",
      "                     1 ...al/rem_pio2.jl:254; rem_pio2_kernel\n",
      "                      1 ./float.jl:404; cody_waite_2c_pio2\n",
      "                     1 ...al/rem_pio2.jl:256; rem_pio2_kernel\n",
      "                      1 ...al/rem_pio2.jl:53; cody_waite_2c_pio2\n",
      "                       1 ./float.jl:404; muladd\n",
      "                     2 ...al/rem_pio2.jl:266; rem_pio2_kernel\n",
      "                    2  ./special/trig.jl:113; cos(::Float64)\n",
      "                    12 ./special/trig.jl:114; cos(::Float64)\n",
      "                     1 ./float.jl:395; cos_kernel\n",
      "                     2 ./float.jl:399; cos_kernel\n",
      "                     6 ./special/trig.jl:140; cos_kernel\n",
      "                      4 ./float.jl:404; muladd\n",
      "                      2 ./operators.jl:502; *\n",
      "                       2 ./float.jl:399; *\n",
      "                     3 ./special/trig.jl:143; cos_kernel\n",
      "                      3 ./float.jl:395; +\n",
      "                    24 ./special/trig.jl:116; cos(::Float64)\n",
      "                     1  ./float.jl:387; -\n",
      "                     1  ./float.jl:395; sin_kernel\n",
      "                     3  ./float.jl:399; sin_kernel\n",
      "                     6  ./special/trig.jl:73; sin_kernel\n",
      "                      2 ./float.jl:404; muladd\n",
      "                      4 ./operators.jl:502; *\n",
      "                       4 ./float.jl:399; *\n",
      "                     13 ./special/trig.jl:75; sin_kernel\n",
      "                      6 ./float.jl:399; *\n",
      "                      7 ./float.jl:397; -\n",
      "                    16 ./special/trig.jl:118; cos(::Float64)\n",
      "                     1 ./float.jl:387; -\n",
      "                     1 ./float.jl:395; cos_kernel\n",
      "                     8 ./special/trig.jl:140; cos_kernel\n",
      "                      3 ./float.jl:399; *\n",
      "                      4 ./float.jl:404; muladd\n",
      "                      1 ./operators.jl:502; *\n",
      "                       1 ./float.jl:399; *\n",
      "                     1 ./special/trig.jl:142; cos_kernel\n",
      "                      1 ./float.jl:397; -\n",
      "                     4 ./special/trig.jl:143; cos_kernel\n",
      "                      2 ./float.jl:399; *\n",
      "                      2 ./float.jl:395; +\n",
      "                    35 ./special/trig.jl:120; cos(::Float64)\n",
      "                     9  ./float.jl:399; sin_kernel\n",
      "                     1  ./special/trig.jl:71; sin_kernel\n",
      "                      1 ./float.jl:399; *\n",
      "                     14 ./special/trig.jl:73; sin_kernel\n",
      "                      7 ./float.jl:395; +\n",
      "                      2 ./float.jl:404; muladd\n",
      "                      5 ./operators.jl:502; *\n",
      "                       5 ./float.jl:399; *\n",
      "                     11 ./special/trig.jl:75; sin_kernel\n",
      "                      5 ./float.jl:399; *\n",
      "                      6 ./float.jl:397; -\n",
      "                    2  ./special/trig.jl:30; sin(::Float64)\n",
      "                     2 ./float.jl:522; abs\n",
      "                    4  ./special/trig.jl:31; sin(::Float64)\n",
      "                     1 ./float.jl:452; <\n",
      "                    1  ./special/trig.jl:32; sin(::Float64)\n",
      "                    1  ./special/trig.jl:33; sin(::Float64)\n",
      "                    12 ./special/trig.jl:35; sin(::Float64)\n",
      "                     2 ./float.jl:399; sin_kernel\n",
      "                     2 ./float.jl:404; sin_kernel\n",
      "                     4 ./special/trig.jl:80; sin_kernel\n",
      "                      4 ./float.jl:404; muladd\n",
      "                     4 ./special/trig.jl:82; sin_kernel\n"
     ]
    },
    {
     "name": "stdout",
     "output_type": "stream",
     "text": [
      "                      1 ./float.jl:399; *\n",
      "                      3 ./float.jl:395; +\n",
      "                    1  ./special/trig.jl:36; sin(::Float64)\n",
      "                    3  ./special/trig.jl:38; sin(::Float64)\n",
      "                     1 ./float.jl:557; isinf\n",
      "                      1 ./float.jl:448; isfinite\n",
      "                    13 ./special/trig.jl:41; sin(::Float64)\n",
      "                     1 ...al/rem_pio2.jl:0; rem_pio2_kernel\n",
      "                     3 ...al/rem_pio2.jl:219; rem_pio2_kernel\n",
      "                      3 ./math.jl:1052; poshighword\n",
      "                       3 ./essentials.jl:381; reinterpret\n",
      "                     2 ...al/rem_pio2.jl:231; rem_pio2_kernel\n",
      "                      2 ...al/rem_pio2.jl:52; cody_waite_2c_pio2\n",
      "                       2 ./float.jl:404; muladd\n",
      "                     4 ...al/rem_pio2.jl:238; rem_pio2_kernel\n",
      "                      2 ./float.jl:404; cody_waite_2c_pio2\n",
      "                      2 ...al/rem_pio2.jl:53; cody_waite_2c_pio2\n",
      "                       2 ./float.jl:404; muladd\n",
      "                     1 ...al/rem_pio2.jl:256; rem_pio2_kernel\n",
      "                      1 ./float.jl:404; cody_waite_2c_pio2\n",
      "                     2 ...al/rem_pio2.jl:266; rem_pio2_kernel\n",
      "                      1 ./float.jl:404; cody_waite_2c_pio2\n",
      "                    3  ./special/trig.jl:43; sin(::Float64)\n",
      "                    18 ./special/trig.jl:44; sin(::Float64)\n",
      "                     8 ./float.jl:399; sin_kernel\n",
      "                     5 ./special/trig.jl:73; sin_kernel\n",
      "                      3 ./float.jl:395; +\n",
      "                      2 ./float.jl:404; muladd\n",
      "                     5 ./special/trig.jl:75; sin_kernel\n",
      "                      2 ./float.jl:399; *\n",
      "                      3 ./float.jl:397; -\n",
      "                    27 ./special/trig.jl:46; sin(::Float64)\n",
      "                     1  ./float.jl:397; cos_kernel\n",
      "                     5  ./float.jl:399; cos_kernel\n",
      "                     12 ./special/trig.jl:140; cos_kernel\n",
      "                      4 ./float.jl:399; *\n",
      "                      6 ./float.jl:404; muladd\n",
      "                      2 ./operators.jl:502; *\n",
      "                       2 ./float.jl:399; *\n",
      "                     9  ./special/trig.jl:143; cos_kernel\n",
      "                      9 ./float.jl:395; +\n",
      "                    26 ./special/trig.jl:48; sin(::Float64)\n",
      "                     1  ./float.jl:387; -\n",
      "                     4  ./float.jl:399; sin_kernel\n",
      "                     3  ./float.jl:404; sin_kernel\n",
      "                     6  ./special/trig.jl:73; sin_kernel\n",
      "                      1 ./float.jl:395; +\n",
      "                      1 ./float.jl:404; muladd\n",
      "                      4 ./operators.jl:502; *\n",
      "                       4 ./float.jl:399; *\n",
      "                     12 ./special/trig.jl:75; sin_kernel\n",
      "                      3 ./float.jl:399; *\n",
      "                      9 ./float.jl:397; -\n",
      "                    20 ./special/trig.jl:50; sin(::Float64)\n",
      "                     1 ./float.jl:387; -\n",
      "                     1 ./float.jl:404; cos_kernel\n",
      "                     4 ./special/trig.jl:139; cos_kernel\n",
      "                      4 ./float.jl:399; *\n",
      "                     5 ./special/trig.jl:140; cos_kernel\n",
      "                      2 ./float.jl:399; *\n",
      "                      1 ./float.jl:395; +\n",
      "                      2 ./float.jl:404; muladd\n",
      "                     1 ./special/trig.jl:142; cos_kernel\n",
      "                      1 ./float.jl:397; -\n",
      "                     8 ./special/trig.jl:143; cos_kernel\n",
      "                      6 ./float.jl:395; +\n",
      "                      2 ./float.jl:397; -\n",
      "                  54  ./float.jl:397; _broadcast_getindex\n",
      "             43  ./broadcast.jl:196; similar\n",
      "              43 ./abstractarray.jl:617; similar\n",
      "               43 ./abstractarray.jl:618; similar\n",
      "                43 ./boot.jl:419; Type\n",
      "                 43 ./boot.jl:411; Type\n",
      "                  43 ./boot.jl:402; Type\n",
      "                   3 ...7sLQ/src/fft.jl:255; destroy_plan(::FFTW.cFFT...\n",
      "           55  ./operators.jl:502; *\n",
      "            55 ./arraymath.jl:52; *\n",
      "             55 ./broadcast.jl:707; broadcast(::typeof(*), ::Co...\n",
      "              55 ./broadcast.jl:753; materialize\n",
      "               55 ./broadcast.jl:773; copy\n",
      "                55 ./broadcast.jl:797; copyto!\n",
      "                 55 ./broadcast.jl:842; copyto!\n",
      "                  2  ./simdloop.jl:71; macro expansion\n",
      "                   2 ./int.jl:49; <\n",
      "                  53 ./simdloop.jl:73; macro expansion\n",
      "                   53 ./broadcast.jl:843; macro expansion\n",
      "                    7  ./array.jl:767; setindex!\n",
      "                    46 ./broadcast.jl:511; getindex\n",
      "                     46 ./broadcast.jl:551; _broadcast_getindex\n",
      "                      46 ./broadcast.jl:578; _broadcast_getindex_evalf\n",
      "                       46 ./complex.jl:312; *\n",
      "                        46 ./float.jl:399; *\n",
      "           1   ./twiceprecision.jl:482; /(::StepRangeLen{Float64,Bas...\n",
      "            1 ./twiceprecision.jl:229; nbitslen\n",
      "             1 ./twiceprecision.jl:230; nbitslen\n",
      "              1 ./twiceprecision.jl:234; nbitslen\n",
      "               1 ./math.jl:487; log2\n",
      "                1 ./math.jl:485; log2\n",
      "          192 ...lia/HW1/src/HW1.jl:64; trisolve(::Float64, ::Float64...\n",
      "           192 ...src/definitions.jl:50; fft!\n",
      "            149 .../p7sLQ/src/fft.jl:397; *(::FFTW.cFFTWPlan{Complex{...\n",
      "            43  .../p7sLQ/src/fft.jl:630; plan_fft!\n",
      "             43 .../p7sLQ/src/fft.jl:630; #plan_fft!#8\n",
      "              43 .../p7sLQ/src/fft.jl:626; plan_fft!\n",
      "               43 ...p7sLQ/src/fft.jl:626; #plan_fft!#6\n",
      "                3  ...p7sLQ/src/fft.jl:498; FFTW.cFFTWPlan{Complex{Fl...\n",
      "                 1 ./array.jl:130; vect\n",
      "                  1 ./abstractarray.jl:617; similar\n",
      "                   1 ./abstractarray.jl:618; similar\n",
      "                    1 ./boot.jl:419; Type\n",
      "                     1 ./boot.jl:411; Type\n",
      "                      1 ./boot.jl:402; Type\n",
      "                 2 ...p7sLQ/src/fft.jl:449; dims_howmany(::Array{Comp...\n",
      "                  1 ./array.jl:130; vect(::Int64, ::Vararg{In...\n",
      "                   1 ./abstractarray.jl:617; similar\n",
      "                    1 ./abstractarray.jl:618; similar\n",
      "                     1 ./boot.jl:419; Type\n",
      "                      1 ./boot.jl:411; Type\n",
      "                       1 ./boot.jl:402; Type\n",
      "                  1 ./essentials.jl:631; append_any(::Any, ::Varar...\n",
      "                   1 ./boot.jl:402; Type\n",
      "                40 ...p7sLQ/src/fft.jl:499; FFTW.cFFTWPlan{Complex{Fl...\n",
      "          33  ...lia/HW1/src/HW1.jl:68; trisolve(::Float64, ::Float64...\n",
      "           33 ./broadcast.jl:756; materialize!\n",
      "            33 ./broadcast.jl:797; copyto!\n",
      "             33 ./broadcast.jl:842; copyto!\n",
      "              33 ./simdloop.jl:73; macro expansion\n",
      "               33 ./broadcast.jl:843; macro expansion\n",
      "                33 ./broadcast.jl:511; getindex\n",
      "                 7  ./broadcast.jl:550; _broadcast_getindex\n",
      "                  7 ./broadcast.jl:574; _getindex\n",
      "                   7 ./broadcast.jl:544; _broadcast_getindex\n",
      "                    7 ./array.jl:729; getindex\n",
      "                 26 ./broadcast.jl:551; _broadcast_getindex\n",
      "                  26 ./broadcast.jl:578; _broadcast_getindex_evalf\n",
      "                   26 ./complex.jl:324; /\n",
      "                    26 ./promotion.jl:316; /\n",
      "                     26 ./float.jl:401; /\n",
      "          76  ...lia/HW1/src/HW1.jl:73; trisolve(::Float64, ::Float64...\n",
      "           76 ./broadcast.jl:756; materialize!\n",
      "            76 ./broadcast.jl:797; copyto!\n",
      "             1  ./broadcast.jl:841; copyto!\n",
      "              1 ./broadcast.jl:824; preprocess\n",
      "               1 ./broadcast.jl:827; preprocess_args\n",
      "                1 ./broadcast.jl:828; preprocess_args\n",
      "                 1 ./broadcast.jl:825; preprocess\n",
      "                  1 ./broadcast.jl:545; extrude\n",
      "                   1 ./broadcast.jl:500; newindexer\n",
      "                    1 ./broadcast.jl:501; shapeindexer\n",
      "                     1 ./broadcast.jl:506; _newindexer\n",
      "                      1 ./operators.jl:185; !=\n",
      "                       1 ./promotion.jl:403; ==\n",
      "             75 ./broadcast.jl:842; copyto!\n",
      "              1  ./simdloop.jl:71; macro expansion\n",
      "               1 ./int.jl:49; <\n",
      "              74 ./simdloop.jl:73; macro expansion\n",
      "               6  ./array.jl:767; macro expansion\n",
      "               68 ./broadcast.jl:843; macro expansion\n",
      "                68 ./broadcast.jl:511; getindex\n",
      "                 7  ./broadcast.jl:550; _broadcast_getindex\n",
      "                  7 ./broadcast.jl:574; _getindex\n",
      "                   1 ./broadcast.jl:544; _broadcast_getindex\n",
      "                    1 ./array.jl:729; getindex\n",
      "                   6 ./broadcast.jl:575; _getindex\n",
      "                    6 ./broadcast.jl:544; _broadcast_getindex\n",
      "                     6 ./array.jl:729; getindex\n",
      "                 61 ./broadcast.jl:551; _broadcast_getindex\n",
      "                  61 ./broadcast.jl:578; _broadcast_getindex_evalf\n",
      "                   3  ./complex.jl:0; /(::Complex{Float64}, ::...\n",
      "                   5  ./complex.jl:361; /(::Complex{Float64}, ::...\n",
      "                    5 ./float.jl:522; abs\n",
      "                   5  ./complex.jl:362; /(::Complex{Float64}, ::...\n",
      "                    2 ./float.jl:522; abs\n",
      "                   10 ./complex.jl:368; /(::Complex{Float64}, ::...\n",
      "                    6 ./float.jl:454; <=\n",
      "                    2 ./operators.jl:333; >=\n",
      "                     2 ./float.jl:454; <=\n",
      "                   31 ./complex.jl:371; /(::Complex{Float64}, ::...\n",
      "                    29 ./complex.jl:380; cdiv\n",
      "                     1  ./complex.jl:415; robust_cdiv1\n",
      "                      1 ./float.jl:401; /\n",
      "                     23 ./complex.jl:416; robust_cdiv1\n",
      "                      1  ./float.jl:395; +\n",
      "                      22 ./float.jl:401; /\n",
      "                     3  ./complex.jl:417; robust_cdiv1\n",
      "                      3 ./complex.jl:424; robust_cdiv2\n",
      "                       3 ./float.jl:399; *\n",
      "                     2  ./complex.jl:418; robust_cdiv1\n",
      "                      2 ./float.jl:448; robust_cdiv2\n",
      "                    1  ./complex.jl:382; cdiv\n",
      "                     1 ./complex.jl:418; robust_cdiv1\n",
      "                      1 ./complex.jl:424; robust_cdiv2\n",
      "                    1  ./float.jl:399; cdiv\n",
      "                   3  ./complex.jl:374; /(::Complex{Float64}, ::...\n",
      "          125 ...lia/HW1/src/HW1.jl:77; trisolve(::Float64, ::Float64...\n",
      "           125 ...src/definitions.jl:50; ifft!\n",
      "            85 ...rc/definitions.jl:250; *(::AbstractFFTs.ScaledPlan{...\n"
     ]
    },
    {
     "name": "stdout",
     "output_type": "stream",
     "text": [
      "             83 .../p7sLQ/src/fft.jl:397; *(::FFTW.cFFTWPlan{Complex{...\n",
      "             2  ...ra/src/generic.jl:62; rmul!\n",
      "              2 ./simdloop.jl:73; macro expansion\n",
      "               2 ...ra/src/generic.jl:63; macro expansion\n",
      "                2 ./complex.jl:312; *\n",
      "                 2 ./float.jl:399; *\n",
      "            40 ...rc/definitions.jl:52; plan_ifft!\n",
      "             40 ...rc/definitions.jl:52; #plan_ifft!#6\n",
      "              40 ...rc/definitions.jl:270; plan_ifft!\n",
      "               40 ...c/definitions.jl:270; #plan_ifft!#16\n",
      "                1  ...c/definitions.jl:266; normalization\n",
      "                 1 ...c/definitions.jl:265; normalization(::Type, ::T...\n",
      "                39 ...p7sLQ/src/fft.jl:626; plan_bfft!\n",
      "                 39 ...7sLQ/src/fft.jl:626; #plan_bfft!#10\n",
      "                  3  ...7sLQ/src/fft.jl:498; FFTW.cFFTWPlan{Complex{F...\n",
      "                   1 ...7sLQ/src/fft.jl:449; dims_howmany(::Array{Com...\n",
      "                    1 ./essentials.jl:631; append_any(::Any, ::Vara...\n",
      "                     1 ./boot.jl:402; Type\n",
      "                   1 ...7sLQ/src/fft.jl:450; dims_howmany(::Array{Com...\n",
      "                    1 ...dimensional.jl:1403; unique\n",
      "                     1 ...dimensional.jl:1403; #unique#414\n",
      "                      1 ...imensional.jl:1405; _unique_dims\n",
      "                       1 ./set.jl:124; unique(::Array{Int64,1})\n",
      "                        1 ./array.jl:855; push!\n",
      "                         1 ./array.jl:767; setindex!\n",
      "                   1 ...7sLQ/src/fft.jl:459; dims_howmany(::Array{Com...\n",
      "                    1 ./generator.jl:32; hcat\n",
      "                  36 ...7sLQ/src/fft.jl:499; FFTW.cFFTWPlan{Complex{F...\n",
      "          6   ...lia/HW1/src/HW1.jl:79; trisolve(::Float64, ::Float64...\n",
      "           6 ./broadcast.jl:756; materialize!\n",
      "            6 ./broadcast.jl:797; copyto!\n",
      "             6 ./broadcast.jl:842; copyto!\n",
      "              6 ./simdloop.jl:73; macro expansion\n",
      "               4 ./array.jl:767; macro expansion\n",
      "               2 ./broadcast.jl:843; macro expansion\n",
      "                2 ./broadcast.jl:511; getindex\n",
      "                 2 ./broadcast.jl:551; _broadcast_getindex\n",
      "                  2 ./broadcast.jl:578; _broadcast_getindex_evalf\n",
      "                   2 ./complex.jl:312; *\n",
      "                    2 ./promotion.jl:314; *\n",
      "                     2 ./float.jl:399; *\n",
      "          7   ...lia/HW1/src/HW1.jl:81; trisolve(::Float64, ::Float64...\n",
      "           2 ./boot.jl:402; materialize\n",
      "           5 ./broadcast.jl:753; materialize\n",
      "            5 ./broadcast.jl:773; copy\n",
      "             5 ./broadcast.jl:797; copyto!\n",
      "              5 ./broadcast.jl:842; copyto!\n",
      "               5 ./simdloop.jl:73; macro expansion\n",
      "                5 ./broadcast.jl:843; macro expansion\n",
      "                 5 ./broadcast.jl:511; getindex\n",
      "                  5 ./broadcast.jl:550; _broadcast_getindex\n",
      "                   5 ./broadcast.jl:575; _getindex\n",
      "                    5 ./broadcast.jl:544; _broadcast_getindex\n",
      "                     5 ./array.jl:729; getindex\n",
      "    1   ...c/execute_request.jl:105; execute_request(::ZMQ.Socket, ::...\n",
      "     1 ...ia/9ajf8/src/stdio.jl:257; flush_all()\n",
      "      1 ...a/9ajf8/src/stdio.jl:273; flush(::IJulia.IJuliaStdio{Base....\n",
      "       1 ./io.jl:227; flush\n",
      "        1 ./stream.jl:928; flush\n",
      "         1 ./stream.jl:853; uv_write(::Base.PipeEndpoint, ...\n",
      "          1 ./event.jl:255; wait()\n",
      "           1 ./event.jl:199; try_yieldto(::typeof(Base.ens...\n",
      "            1 ./sysimg.jl:19; setproperty!(::Task, ::Symbol...\n"
     ]
    }
   ],
   "source": [
    "Profile.print()"
   ]
  },
  {
   "cell_type": "code",
   "execution_count": null,
   "metadata": {},
   "outputs": [],
   "source": []
  }
 ],
 "metadata": {
  "kernelspec": {
   "display_name": "Julia 1.1.0",
   "language": "julia",
   "name": "julia-1.1"
  },
  "language_info": {
   "file_extension": ".jl",
   "mimetype": "application/julia",
   "name": "julia",
   "version": "1.1.0"
  }
 },
 "nbformat": 4,
 "nbformat_minor": 2
}
